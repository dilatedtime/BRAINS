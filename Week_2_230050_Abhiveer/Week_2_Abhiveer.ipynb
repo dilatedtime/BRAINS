{
  "cells": [
    {
      "cell_type": "markdown",
      "metadata": {
        "id": "Onm8CXdUCnGs"
      },
      "source": [
        "# **Problem Statement 1**: ***Trade Logic and Risk Control Basics***\n"
      ]
    },
    {
      "cell_type": "markdown",
      "metadata": {
        "id": "8gsDfNUYpvEY"
      },
      "source": [
        "### **Answer 1**"
      ]
    },
    {
      "cell_type": "markdown",
      "metadata": {
        "id": "1C-It-mRGRkC"
      },
      "source": [
        "A leverage of less than 1 describes a situation where not all of our existing capital is invested into the market, therefore the equity is partially in terms of cash whilst not utilising any debt to finance our strategy.\n",
        "\n",
        "\n",
        "Yes, this idea does make sense from a financial point of view as \"underutilization\" of capital can improve risk-adjusted performance of our investment and also provide a degree lf protection to market drawdowns. I\tn the context of our backtestimg engine, the leverage parameter serves as an important tuning instrument for aggressive as well as conservative strategies. A riskier strategy may be assigned a lower \"lev\" parameter and a safer one will similarly be given a higher tuning parameter.\n",
        "\n",
        "\n",
        "---\n",
        "\n"
      ]
    },
    {
      "cell_type": "markdown",
      "metadata": {
        "id": "0nralF_up3E8"
      },
      "source": [
        "### **Answer 2**"
      ]
    },
    {
      "cell_type": "markdown",
      "metadata": {
        "id": "bUQv1S-SqAma"
      },
      "source": [
        "A static stop loss is a fixed price level that a trader sets when buying a stock. This price level bears no relation with the current market price and is simply a predetermined dead-end as far as our trade is concerned. By comparison, a trailing stop loss is a dynamic stop loss that re-adjusts according to a certain relation given by the trader, be it in terms of a raw figure (x rupees below the current trading price) or be it in terms of a certain percentage of this price.\n",
        "\n",
        "**Behaviour in a Trending Market:** Here, a static stoploss remains as a fixed price band completely isolated from the trading price. This could potentially result in situations where the stoploss ends up being far below the market price in an uptrending market which renders the trader vulnerable to a sharp downtrend. On the other hand, a trailing stop loss \"moves\" with the traded price in the first place and ensures that there's a viable mark near our trading price to book our accumulated profits even during a sharp downtrend.\n",
        "\n",
        "**Behaviour in a Volatile Market:** In a volatile market, the static stoploss provides a concrete safety net for prices showing wild variation. This turns out to be a somewhat safer alternative to say a trailing stoploss which can prove to be too tightly associated to the market price, hence resulting in a premature exit during the sharp swings characteristic of a volatile market.\n",
        "\n",
        "\n",
        "---\n",
        "\n",
        "\n",
        "\n",
        "\n"
      ]
    },
    {
      "cell_type": "markdown",
      "metadata": {
        "id": "cOuU6vRiyDcj"
      },
      "source": [
        "### **Answer 3**"
      ]
    },
    {
      "cell_type": "markdown",
      "metadata": {
        "id": "gXYGVglZyQ6u"
      },
      "source": [
        "In general, outside of certain cases of risk-reward calculation and short term/volatile market trading, the trailing take profit is a key concept that can be of great benefit to any trader especially in a trending market. By following the market price all the way up on an up-trend, the \"take-profit\" mechanism serves as a way of adapting to evolving market dynamics and protecting accumulated gains.\n",
        "\n",
        "In fact, as we defined in a prior answer, this mechanism is almost perfectly aligned with the idea of a **trailing stop loss** which is a risk management method that establishes a fixed relation to the market price either in terms of distance or percentage.\n",
        "\n",
        "\n",
        "---\n",
        "\n"
      ]
    },
    {
      "cell_type": "markdown",
      "metadata": {
        "id": "6ZSqTj63zwAp"
      },
      "source": [
        "### **Answer 4**"
      ]
    },
    {
      "cell_type": "markdown",
      "metadata": {
        "id": "FrzgdYHqz4N1"
      },
      "source": [
        "Scenarios in which a trade remains open even after reaching the stop loss point are associated with the concept of slippage. This is when a trade remains open or gets filled at a less favourable position than the designated stoploss.\n",
        "\n",
        "There are a few cases that we can take up that exhibit this slippage:\n",
        "\n",
        "1. *Gapping in markets caused by a significant deviation between the opening price of the trading day wrt the closing price of the preceding day, caused by major political, economic and social factors*\n",
        "\n",
        "2. *Volatile markets, moving so quickly that they manage to bypass the conversion of stoploss order to a market order, hence filling at a lower price*\n",
        "\n",
        "3. *Low liquidity arising in cases where there are simply too few participants in the market. There would exist no buyers at our desired price range.*\n",
        "\n",
        "\n",
        "---\n",
        "\n"
      ]
    },
    {
      "cell_type": "markdown",
      "metadata": {
        "id": "CHbLuFlj1wS9"
      },
      "source": [
        "# **Problem Statement 2: *Probabilistic Pattern Validator***"
      ]
    },
    {
      "cell_type": "markdown",
      "metadata": {
        "id": "Bpr1dBM61-yS"
      },
      "source": [
        "### **1. Pattern Identification**"
      ]
    },
    {
      "cell_type": "markdown",
      "metadata": {
        "id": "Vzl3seRx2ySQ"
      },
      "source": [
        "*Some preparation before the main code*"
      ]
    },
    {
      "cell_type": "code",
      "execution_count": 3,
      "metadata": {
        "id": "xb0oD07Q2XJZ"
      },
      "outputs": [
        {
          "name": "stdout",
          "output_type": "stream",
          "text": [
            "\n",
            "\u001b[1m[\u001b[0m\u001b[34;49mnotice\u001b[0m\u001b[1;39;49m]\u001b[0m\u001b[39;49m A new release of pip is available: \u001b[0m\u001b[31;49m24.0\u001b[0m\u001b[39;49m -> \u001b[0m\u001b[32;49m25.1.1\u001b[0m\n",
            "\u001b[1m[\u001b[0m\u001b[34;49mnotice\u001b[0m\u001b[1;39;49m]\u001b[0m\u001b[39;49m To update, run: \u001b[0m\u001b[32;49mpip3 install --upgrade pip\u001b[0m\n",
            "Note: you may need to restart the kernel to use updated packages.\n"
          ]
        }
      ],
      "source": [
        "%pip install yfinance plotly mplfinance --q\n",
        "\n",
        "import yfinance as yf\n",
        "import mplfinance as mpf\n",
        "import pandas as pd\n",
        "import numpy as np\n",
        "import plotly.graph_objects as go\n",
        "import plotly.express as px\n",
        "import plotly.subplots as sp\n",
        "import matplotlib.pyplot as plt\n",
        "import statistics"
      ]
    },
    {
      "cell_type": "code",
      "execution_count": 4,
      "metadata": {
        "colab": {
          "base_uri": "https://localhost:8080/",
          "height": 223
        },
        "id": "jrInstvW2_NK",
        "outputId": "759427d5-3cbb-446d-bce1-2030bc1768bc"
      },
      "outputs": [
        {
          "name": "stderr",
          "output_type": "stream",
          "text": [
            "/var/folders/9s/5wp3sp9961xdmx9cwzg728680000gn/T/ipykernel_29468/122848565.py:2: FutureWarning: YF.download() has changed argument auto_adjust default to True\n",
            "  stock_data = yf.download(ticker, start=start_date, end=end_date, interval = interval)\n",
            "[*********************100%***********************]  1 of 1 completed\n"
          ]
        },
        {
          "data": {
            "text/html": [
              "<div>\n",
              "<style scoped>\n",
              "    .dataframe tbody tr th:only-of-type {\n",
              "        vertical-align: middle;\n",
              "    }\n",
              "\n",
              "    .dataframe tbody tr th {\n",
              "        vertical-align: top;\n",
              "    }\n",
              "\n",
              "    .dataframe thead th {\n",
              "        text-align: right;\n",
              "    }\n",
              "</style>\n",
              "<table border=\"1\" class=\"dataframe\">\n",
              "  <thead>\n",
              "    <tr style=\"text-align: right;\">\n",
              "      <th></th>\n",
              "      <th>timestamp</th>\n",
              "      <th>Close</th>\n",
              "      <th>High</th>\n",
              "      <th>Low</th>\n",
              "      <th>Open</th>\n",
              "      <th>Volume</th>\n",
              "    </tr>\n",
              "  </thead>\n",
              "  <tbody>\n",
              "    <tr>\n",
              "      <th>0</th>\n",
              "      <td>2017-01-02</td>\n",
              "      <td>244.719635</td>\n",
              "      <td>249.739475</td>\n",
              "      <td>242.295099</td>\n",
              "      <td>246.779931</td>\n",
              "      <td>40504578</td>\n",
              "    </tr>\n",
              "    <tr>\n",
              "      <th>1</th>\n",
              "      <td>2017-01-09</td>\n",
              "      <td>248.236938</td>\n",
              "      <td>249.853301</td>\n",
              "      <td>243.820402</td>\n",
              "      <td>245.186334</td>\n",
              "      <td>39661275</td>\n",
              "    </tr>\n",
              "    <tr>\n",
              "      <th>2</th>\n",
              "      <td>2017-01-16</td>\n",
              "      <td>233.530304</td>\n",
              "      <td>249.045111</td>\n",
              "      <td>233.097753</td>\n",
              "      <td>248.134494</td>\n",
              "      <td>91184205</td>\n",
              "    </tr>\n",
              "    <tr>\n",
              "      <th>3</th>\n",
              "      <td>2017-01-23</td>\n",
              "      <td>233.370941</td>\n",
              "      <td>235.101129</td>\n",
              "      <td>230.570767</td>\n",
              "      <td>232.619680</td>\n",
              "      <td>68846240</td>\n",
              "    </tr>\n",
              "    <tr>\n",
              "      <th>4</th>\n",
              "      <td>2017-01-30</td>\n",
              "      <td>235.317413</td>\n",
              "      <td>239.904688</td>\n",
              "      <td>233.302648</td>\n",
              "      <td>233.336795</td>\n",
              "      <td>64434214</td>\n",
              "    </tr>\n",
              "  </tbody>\n",
              "</table>\n",
              "</div>"
            ],
            "text/plain": [
              "   timestamp       Close        High         Low        Open    Volume\n",
              "0 2017-01-02  244.719635  249.739475  242.295099  246.779931  40504578\n",
              "1 2017-01-09  248.236938  249.853301  243.820402  245.186334  39661275\n",
              "2 2017-01-16  233.530304  249.045111  233.097753  248.134494  91184205\n",
              "3 2017-01-23  233.370941  235.101129  230.570767  232.619680  68846240\n",
              "4 2017-01-30  235.317413  239.904688  233.302648  233.336795  64434214"
            ]
          },
          "execution_count": 4,
          "metadata": {},
          "output_type": "execute_result"
        }
      ],
      "source": [
        "def download_stock_data(ticker, start_date, end_date, interval):\n",
        "  stock_data = yf.download(ticker, start=start_date, end=end_date, interval = interval)\n",
        "  if isinstance(stock_data.columns, pd.MultiIndex):\n",
        "    stock_data = stock_data.xs(ticker, axis = 1, level = 1)\n",
        "    stock_data.columns.name = None\n",
        "    stock_data.reset_index(inplace=True)\n",
        "    if stock_data.columns[0] in ['Date', 'Datetime']:\n",
        "        stock_data.rename(columns={stock_data.columns[0]: 'timestamp'}, inplace=True)\n",
        "    stock_data.loc[:,'timestamp'] = pd.to_datetime(stock_data['timestamp'])\n",
        "\n",
        "    return stock_data\n",
        "\n",
        "chosen_stock = \"RELIANCE.NS\"\n",
        "start_date = \"2017-01-01\"\n",
        "end_date = \"2022-01-01\"\n",
        "interval = \"1wk\"\n",
        "\n",
        "stock_data = download_stock_data(chosen_stock, start_date, end_date, interval)\n",
        "stock_data.dropna().head()"
      ]
    },
    {
      "cell_type": "code",
      "execution_count": 5,
      "metadata": {
        "colab": {
          "base_uri": "https://localhost:8080/",
          "height": 542
        },
        "id": "uHuhr6tVqJr0",
        "outputId": "22431003-1664-4fb3-996d-01bf74f299b7"
      },
      "outputs": [
        {
          "data": {
            "application/vnd.plotly.v1+json": {
              "config": {
                "plotlyServerURL": "https://plot.ly"
              },
              "data": [
                {
                  "close": {
                    "bdata": "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",
                    "dtype": "f8"
                  },
                  "high": {
                    "bdata": "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",
                    "dtype": "f8"
                  },
                  "low": {
                    "bdata": "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",
                    "dtype": "f8"
                  },
                  "open": {
                    "bdata": "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",
                    "dtype": "f8"
                  },
                  "type": "candlestick",
                  "x": {
                    "bdata": "AAABAAIAAwAEAAUABgAHAAgACQAKAAsADAANAA4ADwAQABEAEgATABQAFQAWABcAGAAZABoAGwAcAB0AHgAfACAAIQAiACMAJAAlACYAJwAoACkAKgArACwALQAuAC8AMAAxADIAMwA0ADUANgA3ADgAOQA6ADsAPAA9AD4APwBAAEEAQgBDAEQARQBGAEcASABJAEoASwBMAE0ATgBPAFAAUQBSAFMAVABVAFYAVwBYAFkAWgBbAFwAXQBeAF8AYABhAGIAYwBkAGUAZgBnAGgAaQBqAGsAbABtAG4AbwBwAHEAcgBzAHQAdQB2AHcAeAB5AHoAewB8AH0AfgB/AIAAgQCCAIMAhACFAIYAhwCIAIkAigCLAIwAjQCOAI8AkACRAJIAkwCUAJUAlgCXAJgAmQCaAJsAnACdAJ4AnwCgAKEAogCjAKQApQCmAKcAqACpAKoAqwCsAK0ArgCvALAAsQCyALMAtAC1ALYAtwC4ALkAugC7ALwAvQC+AL8AwADBAMIAwwDEAMUAxgDHAMgAyQDKAMsAzADNAM4AzwDQANEA0gDTANQA1QDWANcA2ADZANoA2wDcAN0A3gDfAOAA4QDiAOMA5ADlAOYA5wDoAOkA6gDrAOwA7QDuAO8A8ADxAPIA8wD0APUA9gD3APgA+QD6APsA/AD9AP4A/wAAAQEBAgEDAQQB",
                    "dtype": "i2"
                  }
                }
              ],
              "layout": {
                "template": {
                  "data": {
                    "bar": [
                      {
                        "error_x": {
                          "color": "#2a3f5f"
                        },
                        "error_y": {
                          "color": "#2a3f5f"
                        },
                        "marker": {
                          "line": {
                            "color": "#E5ECF6",
                            "width": 0.5
                          },
                          "pattern": {
                            "fillmode": "overlay",
                            "size": 10,
                            "solidity": 0.2
                          }
                        },
                        "type": "bar"
                      }
                    ],
                    "barpolar": [
                      {
                        "marker": {
                          "line": {
                            "color": "#E5ECF6",
                            "width": 0.5
                          },
                          "pattern": {
                            "fillmode": "overlay",
                            "size": 10,
                            "solidity": 0.2
                          }
                        },
                        "type": "barpolar"
                      }
                    ],
                    "carpet": [
                      {
                        "aaxis": {
                          "endlinecolor": "#2a3f5f",
                          "gridcolor": "white",
                          "linecolor": "white",
                          "minorgridcolor": "white",
                          "startlinecolor": "#2a3f5f"
                        },
                        "baxis": {
                          "endlinecolor": "#2a3f5f",
                          "gridcolor": "white",
                          "linecolor": "white",
                          "minorgridcolor": "white",
                          "startlinecolor": "#2a3f5f"
                        },
                        "type": "carpet"
                      }
                    ],
                    "choropleth": [
                      {
                        "colorbar": {
                          "outlinewidth": 0,
                          "ticks": ""
                        },
                        "type": "choropleth"
                      }
                    ],
                    "contour": [
                      {
                        "colorbar": {
                          "outlinewidth": 0,
                          "ticks": ""
                        },
                        "colorscale": [
                          [
                            0,
                            "#0d0887"
                          ],
                          [
                            0.1111111111111111,
                            "#46039f"
                          ],
                          [
                            0.2222222222222222,
                            "#7201a8"
                          ],
                          [
                            0.3333333333333333,
                            "#9c179e"
                          ],
                          [
                            0.4444444444444444,
                            "#bd3786"
                          ],
                          [
                            0.5555555555555556,
                            "#d8576b"
                          ],
                          [
                            0.6666666666666666,
                            "#ed7953"
                          ],
                          [
                            0.7777777777777778,
                            "#fb9f3a"
                          ],
                          [
                            0.8888888888888888,
                            "#fdca26"
                          ],
                          [
                            1,
                            "#f0f921"
                          ]
                        ],
                        "type": "contour"
                      }
                    ],
                    "contourcarpet": [
                      {
                        "colorbar": {
                          "outlinewidth": 0,
                          "ticks": ""
                        },
                        "type": "contourcarpet"
                      }
                    ],
                    "heatmap": [
                      {
                        "colorbar": {
                          "outlinewidth": 0,
                          "ticks": ""
                        },
                        "colorscale": [
                          [
                            0,
                            "#0d0887"
                          ],
                          [
                            0.1111111111111111,
                            "#46039f"
                          ],
                          [
                            0.2222222222222222,
                            "#7201a8"
                          ],
                          [
                            0.3333333333333333,
                            "#9c179e"
                          ],
                          [
                            0.4444444444444444,
                            "#bd3786"
                          ],
                          [
                            0.5555555555555556,
                            "#d8576b"
                          ],
                          [
                            0.6666666666666666,
                            "#ed7953"
                          ],
                          [
                            0.7777777777777778,
                            "#fb9f3a"
                          ],
                          [
                            0.8888888888888888,
                            "#fdca26"
                          ],
                          [
                            1,
                            "#f0f921"
                          ]
                        ],
                        "type": "heatmap"
                      }
                    ],
                    "histogram": [
                      {
                        "marker": {
                          "pattern": {
                            "fillmode": "overlay",
                            "size": 10,
                            "solidity": 0.2
                          }
                        },
                        "type": "histogram"
                      }
                    ],
                    "histogram2d": [
                      {
                        "colorbar": {
                          "outlinewidth": 0,
                          "ticks": ""
                        },
                        "colorscale": [
                          [
                            0,
                            "#0d0887"
                          ],
                          [
                            0.1111111111111111,
                            "#46039f"
                          ],
                          [
                            0.2222222222222222,
                            "#7201a8"
                          ],
                          [
                            0.3333333333333333,
                            "#9c179e"
                          ],
                          [
                            0.4444444444444444,
                            "#bd3786"
                          ],
                          [
                            0.5555555555555556,
                            "#d8576b"
                          ],
                          [
                            0.6666666666666666,
                            "#ed7953"
                          ],
                          [
                            0.7777777777777778,
                            "#fb9f3a"
                          ],
                          [
                            0.8888888888888888,
                            "#fdca26"
                          ],
                          [
                            1,
                            "#f0f921"
                          ]
                        ],
                        "type": "histogram2d"
                      }
                    ],
                    "histogram2dcontour": [
                      {
                        "colorbar": {
                          "outlinewidth": 0,
                          "ticks": ""
                        },
                        "colorscale": [
                          [
                            0,
                            "#0d0887"
                          ],
                          [
                            0.1111111111111111,
                            "#46039f"
                          ],
                          [
                            0.2222222222222222,
                            "#7201a8"
                          ],
                          [
                            0.3333333333333333,
                            "#9c179e"
                          ],
                          [
                            0.4444444444444444,
                            "#bd3786"
                          ],
                          [
                            0.5555555555555556,
                            "#d8576b"
                          ],
                          [
                            0.6666666666666666,
                            "#ed7953"
                          ],
                          [
                            0.7777777777777778,
                            "#fb9f3a"
                          ],
                          [
                            0.8888888888888888,
                            "#fdca26"
                          ],
                          [
                            1,
                            "#f0f921"
                          ]
                        ],
                        "type": "histogram2dcontour"
                      }
                    ],
                    "mesh3d": [
                      {
                        "colorbar": {
                          "outlinewidth": 0,
                          "ticks": ""
                        },
                        "type": "mesh3d"
                      }
                    ],
                    "parcoords": [
                      {
                        "line": {
                          "colorbar": {
                            "outlinewidth": 0,
                            "ticks": ""
                          }
                        },
                        "type": "parcoords"
                      }
                    ],
                    "pie": [
                      {
                        "automargin": true,
                        "type": "pie"
                      }
                    ],
                    "scatter": [
                      {
                        "fillpattern": {
                          "fillmode": "overlay",
                          "size": 10,
                          "solidity": 0.2
                        },
                        "type": "scatter"
                      }
                    ],
                    "scatter3d": [
                      {
                        "line": {
                          "colorbar": {
                            "outlinewidth": 0,
                            "ticks": ""
                          }
                        },
                        "marker": {
                          "colorbar": {
                            "outlinewidth": 0,
                            "ticks": ""
                          }
                        },
                        "type": "scatter3d"
                      }
                    ],
                    "scattercarpet": [
                      {
                        "marker": {
                          "colorbar": {
                            "outlinewidth": 0,
                            "ticks": ""
                          }
                        },
                        "type": "scattercarpet"
                      }
                    ],
                    "scattergeo": [
                      {
                        "marker": {
                          "colorbar": {
                            "outlinewidth": 0,
                            "ticks": ""
                          }
                        },
                        "type": "scattergeo"
                      }
                    ],
                    "scattergl": [
                      {
                        "marker": {
                          "colorbar": {
                            "outlinewidth": 0,
                            "ticks": ""
                          }
                        },
                        "type": "scattergl"
                      }
                    ],
                    "scattermap": [
                      {
                        "marker": {
                          "colorbar": {
                            "outlinewidth": 0,
                            "ticks": ""
                          }
                        },
                        "type": "scattermap"
                      }
                    ],
                    "scattermapbox": [
                      {
                        "marker": {
                          "colorbar": {
                            "outlinewidth": 0,
                            "ticks": ""
                          }
                        },
                        "type": "scattermapbox"
                      }
                    ],
                    "scatterpolar": [
                      {
                        "marker": {
                          "colorbar": {
                            "outlinewidth": 0,
                            "ticks": ""
                          }
                        },
                        "type": "scatterpolar"
                      }
                    ],
                    "scatterpolargl": [
                      {
                        "marker": {
                          "colorbar": {
                            "outlinewidth": 0,
                            "ticks": ""
                          }
                        },
                        "type": "scatterpolargl"
                      }
                    ],
                    "scatterternary": [
                      {
                        "marker": {
                          "colorbar": {
                            "outlinewidth": 0,
                            "ticks": ""
                          }
                        },
                        "type": "scatterternary"
                      }
                    ],
                    "surface": [
                      {
                        "colorbar": {
                          "outlinewidth": 0,
                          "ticks": ""
                        },
                        "colorscale": [
                          [
                            0,
                            "#0d0887"
                          ],
                          [
                            0.1111111111111111,
                            "#46039f"
                          ],
                          [
                            0.2222222222222222,
                            "#7201a8"
                          ],
                          [
                            0.3333333333333333,
                            "#9c179e"
                          ],
                          [
                            0.4444444444444444,
                            "#bd3786"
                          ],
                          [
                            0.5555555555555556,
                            "#d8576b"
                          ],
                          [
                            0.6666666666666666,
                            "#ed7953"
                          ],
                          [
                            0.7777777777777778,
                            "#fb9f3a"
                          ],
                          [
                            0.8888888888888888,
                            "#fdca26"
                          ],
                          [
                            1,
                            "#f0f921"
                          ]
                        ],
                        "type": "surface"
                      }
                    ],
                    "table": [
                      {
                        "cells": {
                          "fill": {
                            "color": "#EBF0F8"
                          },
                          "line": {
                            "color": "white"
                          }
                        },
                        "header": {
                          "fill": {
                            "color": "#C8D4E3"
                          },
                          "line": {
                            "color": "white"
                          }
                        },
                        "type": "table"
                      }
                    ]
                  },
                  "layout": {
                    "annotationdefaults": {
                      "arrowcolor": "#2a3f5f",
                      "arrowhead": 0,
                      "arrowwidth": 1
                    },
                    "autotypenumbers": "strict",
                    "coloraxis": {
                      "colorbar": {
                        "outlinewidth": 0,
                        "ticks": ""
                      }
                    },
                    "colorscale": {
                      "diverging": [
                        [
                          0,
                          "#8e0152"
                        ],
                        [
                          0.1,
                          "#c51b7d"
                        ],
                        [
                          0.2,
                          "#de77ae"
                        ],
                        [
                          0.3,
                          "#f1b6da"
                        ],
                        [
                          0.4,
                          "#fde0ef"
                        ],
                        [
                          0.5,
                          "#f7f7f7"
                        ],
                        [
                          0.6,
                          "#e6f5d0"
                        ],
                        [
                          0.7,
                          "#b8e186"
                        ],
                        [
                          0.8,
                          "#7fbc41"
                        ],
                        [
                          0.9,
                          "#4d9221"
                        ],
                        [
                          1,
                          "#276419"
                        ]
                      ],
                      "sequential": [
                        [
                          0,
                          "#0d0887"
                        ],
                        [
                          0.1111111111111111,
                          "#46039f"
                        ],
                        [
                          0.2222222222222222,
                          "#7201a8"
                        ],
                        [
                          0.3333333333333333,
                          "#9c179e"
                        ],
                        [
                          0.4444444444444444,
                          "#bd3786"
                        ],
                        [
                          0.5555555555555556,
                          "#d8576b"
                        ],
                        [
                          0.6666666666666666,
                          "#ed7953"
                        ],
                        [
                          0.7777777777777778,
                          "#fb9f3a"
                        ],
                        [
                          0.8888888888888888,
                          "#fdca26"
                        ],
                        [
                          1,
                          "#f0f921"
                        ]
                      ],
                      "sequentialminus": [
                        [
                          0,
                          "#0d0887"
                        ],
                        [
                          0.1111111111111111,
                          "#46039f"
                        ],
                        [
                          0.2222222222222222,
                          "#7201a8"
                        ],
                        [
                          0.3333333333333333,
                          "#9c179e"
                        ],
                        [
                          0.4444444444444444,
                          "#bd3786"
                        ],
                        [
                          0.5555555555555556,
                          "#d8576b"
                        ],
                        [
                          0.6666666666666666,
                          "#ed7953"
                        ],
                        [
                          0.7777777777777778,
                          "#fb9f3a"
                        ],
                        [
                          0.8888888888888888,
                          "#fdca26"
                        ],
                        [
                          1,
                          "#f0f921"
                        ]
                      ]
                    },
                    "colorway": [
                      "#636efa",
                      "#EF553B",
                      "#00cc96",
                      "#ab63fa",
                      "#FFA15A",
                      "#19d3f3",
                      "#FF6692",
                      "#B6E880",
                      "#FF97FF",
                      "#FECB52"
                    ],
                    "font": {
                      "color": "#2a3f5f"
                    },
                    "geo": {
                      "bgcolor": "white",
                      "lakecolor": "white",
                      "landcolor": "#E5ECF6",
                      "showlakes": true,
                      "showland": true,
                      "subunitcolor": "white"
                    },
                    "hoverlabel": {
                      "align": "left"
                    },
                    "hovermode": "closest",
                    "mapbox": {
                      "style": "light"
                    },
                    "paper_bgcolor": "white",
                    "plot_bgcolor": "#E5ECF6",
                    "polar": {
                      "angularaxis": {
                        "gridcolor": "white",
                        "linecolor": "white",
                        "ticks": ""
                      },
                      "bgcolor": "#E5ECF6",
                      "radialaxis": {
                        "gridcolor": "white",
                        "linecolor": "white",
                        "ticks": ""
                      }
                    },
                    "scene": {
                      "xaxis": {
                        "backgroundcolor": "#E5ECF6",
                        "gridcolor": "white",
                        "gridwidth": 2,
                        "linecolor": "white",
                        "showbackground": true,
                        "ticks": "",
                        "zerolinecolor": "white"
                      },
                      "yaxis": {
                        "backgroundcolor": "#E5ECF6",
                        "gridcolor": "white",
                        "gridwidth": 2,
                        "linecolor": "white",
                        "showbackground": true,
                        "ticks": "",
                        "zerolinecolor": "white"
                      },
                      "zaxis": {
                        "backgroundcolor": "#E5ECF6",
                        "gridcolor": "white",
                        "gridwidth": 2,
                        "linecolor": "white",
                        "showbackground": true,
                        "ticks": "",
                        "zerolinecolor": "white"
                      }
                    },
                    "shapedefaults": {
                      "line": {
                        "color": "#2a3f5f"
                      }
                    },
                    "ternary": {
                      "aaxis": {
                        "gridcolor": "white",
                        "linecolor": "white",
                        "ticks": ""
                      },
                      "baxis": {
                        "gridcolor": "white",
                        "linecolor": "white",
                        "ticks": ""
                      },
                      "bgcolor": "#E5ECF6",
                      "caxis": {
                        "gridcolor": "white",
                        "linecolor": "white",
                        "ticks": ""
                      }
                    },
                    "title": {
                      "x": 0.05
                    },
                    "xaxis": {
                      "automargin": true,
                      "gridcolor": "white",
                      "linecolor": "white",
                      "ticks": "",
                      "title": {
                        "standoff": 15
                      },
                      "zerolinecolor": "white",
                      "zerolinewidth": 2
                    },
                    "yaxis": {
                      "automargin": true,
                      "gridcolor": "white",
                      "linecolor": "white",
                      "ticks": "",
                      "title": {
                        "standoff": 15
                      },
                      "zerolinecolor": "white",
                      "zerolinewidth": 2
                    }
                  }
                },
                "title": {
                  "text": "Candlestick Chart - RELIANCE.NS"
                },
                "xaxis": {
                  "rangeslider": {
                    "visible": true
                  },
                  "title": {
                    "text": "Date"
                  }
                },
                "yaxis": {
                  "title": {
                    "text": "Price"
                  }
                }
              }
            }
          },
          "metadata": {},
          "output_type": "display_data"
        }
      ],
      "source": [
        "chart = go.Figure(data=[go.Candlestick(x=stock_data.index,\n",
        "                                            open = stock_data['Open'],\n",
        "                                            high = stock_data['High'],\n",
        "                                            low = stock_data['Low'],\n",
        "                                            close = stock_data['Close'])])\n",
        "\n",
        "chart.update_layout(title=f'Candlestick Chart - {chosen_stock}',xaxis_title='Date',xaxis_rangeslider_visible=True,yaxis_title='Price')\n",
        "chart.show()"
      ]
    },
    {
      "cell_type": "code",
      "execution_count": 6,
      "metadata": {
        "colab": {
          "base_uri": "https://localhost:8080/"
        },
        "id": "yywnFnyzIF5x",
        "outputId": "e3abbcd0-78fb-4ebe-9316-58a40c24bfff"
      },
      "outputs": [
        {
          "name": "stdout",
          "output_type": "stream",
          "text": [
            "Identified Doji patterns on dates: [51, 52, 57, 76, 81, 101, 108, 135, 137, 143, 151, 163, 184, 195, 196, 200, 207, 210, 216, 224, 227, 241, 249, 260]\n",
            "Identified Hammer patterns on dates: [11, 20, 73, 112, 125, 156, 167, 171, 179, 207, 234]\n",
            "Identified Engulfing patterns on dates: [12, 19, 31, 37, 39, 56, 71, 90, 102, 104, 106, 109, 132, 144, 149, 157, 159, 168, 180, 182, 191, 201, 222, 228, 235, 238, 245, 246, 254, 258]\n"
          ]
        }
      ],
      "source": [
        "tolerance_doji = 0.1\n",
        "tolerance_hammer = 2\n",
        "\n",
        "def find_doji_patterns(df):\n",
        "  doji_indices = []\n",
        "  for i in range(len(df)):\n",
        "    open = df['Open'].iloc[i]\n",
        "    close = df['Close'].iloc[i]\n",
        "    high = df['High'].iloc[i]\n",
        "    low = df['Low'].iloc[i]\n",
        "\n",
        "    body = abs(close - open)\n",
        "    range_trade = high - low\n",
        "    if range_trade > 0 and body / range_trade < tolerance_doji:\n",
        "      doji_indices.append(df.index[i])\n",
        "  return doji_indices\n",
        "\n",
        "def find_hammer_patterns(df):\n",
        "  hammer_indices= []\n",
        "  for i in range(len(df)):\n",
        "    open = df['Open'].iloc[i]\n",
        "    close = df['Close'].iloc[i]\n",
        "    high = df['High'].iloc[i]\n",
        "    low = df['Low'].iloc[i]\n",
        "\n",
        "    body = abs(close - open)\n",
        "    lower_shadow = min(open, close) - low\n",
        "    upper_shadow = high - max(open, close)\n",
        "\n",
        "    if lower_shadow > tolerance_hammer * body and upper_shadow < body:\n",
        "      hammer_indices.append(df.index[i])\n",
        "  return hammer_indices\n",
        "\n",
        "def find_engulfing_patterns(df):\n",
        "  engulfing_indices = []\n",
        "  for i in range(len(df)):\n",
        "    prev_Open = df['Open'].iloc[i-1]\n",
        "    prev_Close = df['Close'].iloc[i-1]\n",
        "    curr_Open = df['Open'].iloc[i]\n",
        "    curr_Close = df['Close'].iloc[i]\n",
        "\n",
        "    curr_body = abs(curr_Close - curr_Open)\n",
        "    prev_body = abs(prev_Close - prev_Open)\n",
        "\n",
        "    if curr_Close > curr_Open and prev_Close < prev_Open:\n",
        "      if curr_Open <= prev_Close and curr_Close >= prev_Open:\n",
        "        engulfing_indices.append(df.index[i])\n",
        "    if curr_Close < curr_Open and prev_Close > prev_Open:\n",
        "      if curr_Close <= prev_Open and curr_Open >= prev_Close:\n",
        "        engulfing_indices.append(df.index[i])\n",
        "  return engulfing_indices\n",
        "\n",
        "doji_patterns = find_doji_patterns(stock_data)\n",
        "hammer_patterns = find_hammer_patterns(stock_data)\n",
        "engulfing_patterns = find_engulfing_patterns(stock_data)\n",
        "\n",
        "print(f\"Identified Doji patterns on dates: {doji_patterns}\")\n",
        "print(f\"Identified Hammer patterns on dates: {hammer_patterns}\")\n",
        "print(f\"Identified Engulfing patterns on dates: {engulfing_patterns}\")\n"
      ]
    },
    {
      "cell_type": "markdown",
      "metadata": {
        "id": "KfSJNSzeTmFd"
      },
      "source": [
        "\n",
        "\n",
        "---\n",
        "\n",
        "\n",
        "### **2. Win-Rate Calculation**"
      ]
    },
    {
      "cell_type": "code",
      "execution_count": 7,
      "metadata": {
        "colab": {
          "base_uri": "https://localhost:8080/"
        },
        "id": "AIuvm67tUm_N",
        "outputId": "a3af4a36-5257-4029-df00-e517fea34c61"
      },
      "outputs": [
        {
          "name": "stdout",
          "output_type": "stream",
          "text": [
            "Doji pattern win rate with 3-day window = 52.17%\n",
            "Hammer pattern win rate with 3-day window = 63.64%\n",
            "Engulfing pattern win rate with 3-day window = 68.97%\n",
            "Doji pattern win rate with 5-day window = 56.52%\n",
            "Hammer pattern win rate with 5-day window = 63.64%\n",
            "Engulfing pattern win rate with 5-day window = 79.31%\n"
          ]
        }
      ],
      "source": [
        "def find_win_rate(df, pattern, n):\n",
        "  wins = 0\n",
        "  total_pats = 0\n",
        "\n",
        "  for i in pattern:\n",
        "    t_day = df.index.get_loc(i)\n",
        "    look_ahead = t_day + n\n",
        "\n",
        "    if look_ahead < len(df):\n",
        "      total_pats += 1\n",
        "      net = df['Close'].iloc[look_ahead] - df['Close'].iloc[t_day]\n",
        "      if net > 0:\n",
        "        wins +=1\n",
        "  if total_pats == 0:\n",
        "    win_rate = 0\n",
        "  else:\n",
        "    win_rate = (wins/total_pats) * 100\n",
        "  return win_rate\n",
        "\n",
        "print(f\"Doji pattern win rate with 3-day window = {find_win_rate(stock_data,doji_patterns,3):0.2f}%\")\n",
        "print(f\"Hammer pattern win rate with 3-day window = {find_win_rate(stock_data,hammer_patterns,3):0.2f}%\")\n",
        "print(f\"Engulfing pattern win rate with 3-day window = {find_win_rate(stock_data,engulfing_patterns,3):0.2f}%\")\n",
        "\n",
        "print(f\"Doji pattern win rate with 5-day window = {find_win_rate(stock_data,doji_patterns,5):0.2f}%\")\n",
        "print(f\"Hammer pattern win rate with 5-day window = {find_win_rate(stock_data,hammer_patterns,5):0.2f}%\")\n",
        "print(f\"Engulfing pattern win rate with 5-day window = {find_win_rate(stock_data,engulfing_patterns,5):0.2f}%\")"
      ]
    },
    {
      "cell_type": "markdown",
      "metadata": {
        "id": "-s65xtPiD6O8"
      },
      "source": [
        "\n",
        "\n",
        "---\n",
        "\n",
        "### **3. Baseline Win-Rate**\n"
      ]
    },
    {
      "cell_type": "code",
      "execution_count": 8,
      "metadata": {
        "colab": {
          "base_uri": "https://localhost:8080/"
        },
        "id": "82Ndqtj0E8k0",
        "outputId": "cc4c55e8-4a02-444c-c7a1-2282d26dc96c"
      },
      "outputs": [
        {
          "name": "stdout",
          "output_type": "stream",
          "text": [
            "Empirical win rate of patterns created by random entries = 57.32 %\n"
          ]
        }
      ],
      "source": [
        "def win_rate_random(df,M,n):\n",
        "  num_candles = len(df) - n\n",
        "  num_patterns = 0\n",
        "  if num_candles <= 0 :\n",
        "    return 0\n",
        "  else:\n",
        "    random_wins = 0\n",
        "    for i in range(M):\n",
        "      random_day = np.random.randint(0, num_candles)\n",
        "      if random_day + n < num_candles:\n",
        "         random_net = df['Close'].iloc[random_day + n] - df['Close'].iloc[random_day]\n",
        "         num_patterns += 1\n",
        "      if random_net > 0:\n",
        "         random_wins += 1\n",
        "  if num_patterns == 0:\n",
        "    return 0\n",
        "  else:\n",
        "    win_rate_random = (random_wins/num_patterns) * 100\n",
        "    return win_rate_random\n",
        "\n",
        "print(f\"Empirical win rate of patterns created by random entries = {win_rate_random(stock_data, 1000, 3):0.2f} %\")"
      ]
    },
    {
      "cell_type": "markdown",
      "metadata": {
        "id": "SKtVBgNYLXMl"
      },
      "source": [
        "\n",
        "\n",
        "---\n",
        "\n",
        "### **4. Visualization**"
      ]
    },
    {
      "cell_type": "code",
      "execution_count": 9,
      "metadata": {
        "colab": {
          "base_uri": "https://localhost:8080/",
          "height": 607
        },
        "id": "D2E5WtcrLeIb",
        "outputId": "0b6848fb-c54d-417a-b5cb-311fcf88baa8"
      },
      "outputs": [
        {
          "data": {
            "image/png": "[encoded data removed]",
            "text/plain": [
              "<Figure size 1000x600 with 1 Axes>"
            ]
          },
          "metadata": {},
          "output_type": "display_data"
        }
      ],
      "source": [
        "labels = ['Baseline','Doji','Hammer','Engulfing']\n",
        "win_rates = [win_rate_random(stock_data,1000,3),find_win_rate(stock_data,doji_patterns,3),find_win_rate(stock_data,hammer_patterns,3),find_win_rate(stock_data,engulfing_patterns,3)]\n",
        "fig, ax = plt.subplots(figsize=(10,6))\n",
        "x = np.arange(len(labels))\n",
        "width = 0.25\n",
        "rect = ax.bar(x, win_rates, width)\n",
        "\n",
        "ax.set_ylabel('Win Rate (%)')\n",
        "ax.set_title('Win Rate by Pattern and Baseline')\n",
        "ax.set_xticks(x)\n",
        "ax.set_xticklabels(labels)\n",
        "ax.set_ylim(0,100)\n",
        "\n",
        "def autolabels(rect):\n",
        "  for i in rect:\n",
        "    height = i.get_height()\n",
        "    ax.annotate(f'{height:.2f}%',\n",
        "                xy = (i.get_x() + i.get_width()/2, height),\n",
        "                xytext = (0,3), textcoords = 'offset points',\n",
        "                ha = 'center', va = 'bottom')\n",
        "\n",
        "autolabels(rect)\n",
        "\n",
        "plt.tight_layout()\n",
        "plt.show()"
      ]
    },
    {
      "cell_type": "markdown",
      "metadata": {
        "id": "uyGubnf9QwdV"
      },
      "source": [
        "**Answer 1**"
      ]
    },
    {
      "cell_type": "markdown",
      "metadata": {
        "id": "AuCb8-9NRFl8"
      },
      "source": [
        "The *Doji candlestick pattern* represents a state of indecision in the market. The small body with large upper and lower shadows indicate that neither the bulls nor the bears have managed to take control over the market. As such, these patterns by themselves give a very neutral possibility of positive returns as seen by the ~50% win rate.\n",
        "\n",
        "The *Hammer candlestick pattern* appears during a downtrend and is identified by a large lower shadow and a small upper one. This indicates failure of the bears to take control of the market and is the first stage of bullish resurgence in trading prices.\n",
        "\n",
        "The *engulfing candlestick pattern* has shown to be the likeliest winner amongst the three patterns we have described here. This happens because of the huge reversal in trends induced by one of the candles showing significantly greater opposite momentum.\n",
        "\n",
        "\n",
        "---\n",
        "\n"
      ]
    },
    {
      "cell_type": "markdown",
      "metadata": {
        "id": "gqLA009zbxbl"
      },
      "source": [
        "**Answer 2**"
      ]
    },
    {
      "cell_type": "markdown",
      "metadata": {
        "id": "qJ-eiL4Ob0GV"
      },
      "source": [
        "As n evolves, we can expect the Baseline win-rate to consistently hover just above 50% owing to the overall upward growth of RELIANCE shares. As for the patterns, we can make the following inferences:\n",
        "\n",
        "\n",
        "*   Doji will plateau if not decline after that 5-candle mark since it indicates indecision and market uncertainty, bearing no short or medium term reversals or uptrends to boost the trading price.\n",
        "*   Hammer is a stable growth signal in the short to mid-term which may taper off after some 5-10 candles as the bears recover in the market, since a hammer is not highhly time sensitive. Being a solitary candlestick, there are good odds of recovery.\n",
        "*   Engulfing Candlestick pattern on the other hand, has the potential to remain high up to 10 sessions or more since they capture trend beginnings that can aggressively take over the market as time progresses.\n",
        "\n",
        "\n"
      ]
    },
    {
      "cell_type": "markdown",
      "metadata": {
        "id": "VgapK0FIfhBk"
      },
      "source": [
        "\n",
        "\n",
        "---\n",
        "\n",
        "**Answer 3**"
      ]
    },
    {
      "cell_type": "markdown",
      "metadata": {
        "id": "3JHK6XiZfkZM"
      },
      "source": [
        "I would expect the hammer candlestick to be the most consistent since it captures a short burst of reversal and is a time in-sensitive signal that does not noticeably disrupt the make-up of the market in the medium term. Whenever we see a Hammer form, more often than not, it is accompanied by buying pressure that creates a stable climb. However, this uptrend is not as steep as it would be for engulfing candlesticks for example, and we would notice a similar trend for n = 3,5.. and so on."
      ]
    },
    {
      "cell_type": "markdown",
      "metadata": {
        "id": "xAOdVqaihUrk"
      },
      "source": [
        "\n",
        "\n",
        "---\n",
        "\n",
        "# **Problem Statement 3: *Strategy X - Visual Interpretation and Implementation***"
      ]
    },
    {
      "cell_type": "markdown",
      "metadata": {
        "id": "CSaAzUpX2ZgU"
      },
      "source": [
        "### **1. Chart Interpretation**"
      ]
    },
    {
      "cell_type": "markdown",
      "metadata": {
        "id": "ZVVsmySN2jAb"
      },
      "source": [
        "![heikin ashi.jpg](data:image/jpeg;base64,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)"
      ]
    },
    {
      "cell_type": "markdown",
      "metadata": {
        "id": "1Rx8P0MNOiSn"
      },
      "source": [
        "This chart utilises the following technical indicators:\n",
        "\n",
        "\n",
        "*   *Heiken Ashi Candles*\n",
        "*   *Supertrend Indicator*\n",
        "*   *MFI Indicator*\n",
        "\n",
        "The green upward arrows suggest entry points for a long position while the red ones signal entry for a short position. In the MFI window, the first two marked regions indicate areas of sustained selling and buying pressure respectively as the MFI makes a sharp reversal of trend from an extreme position. On the other hand, the last region is a case of decreasing buying pressure as there is no bearish dominance to bring about a sharp reversal in the MFI, resulting in an \"easing\" out of bullish pressure.\n",
        "\n",
        "Finally, in the Heiken Ashi-supertrend chart, we see annotations (\"UPTREND\", \"DOWNTREND\", \"SIDEWAYS\") corresponding to the actual trends suggested by this indicator.\n"
      ]
    },
    {
      "cell_type": "markdown",
      "metadata": {
        "id": "tDn6sMXkRANz"
      },
      "source": [
        "\n",
        "\n",
        "---\n",
        "\n",
        "# **2. Entry and Exit Rules**"
      ]
    },
    {
      "cell_type": "markdown",
      "metadata": {
        "id": "V9C8pE1GRM92"
      },
      "source": [
        "**Conditions for Long Entry**\n",
        "\n",
        "\n",
        "1.   Supertrend turns bullish (turns green)\n",
        "2.   MFI rises sharply from an oversold or almost oversold region.\n",
        "3.   Price crosses over supertrend\n",
        "\n",
        "\n",
        "**Conditions for Short Entry**\n",
        "\n",
        "\n",
        "1.   Supertrend turns bearish (turns red)\n",
        "2.   MFI falls sharply from an overbought or almost overbought region.\n",
        "3.   Price crosses below supertrend\n",
        "\n",
        "**Conditions for Long Exit**\n",
        "\n",
        "\n",
        "1.   Supertrend reverses direction\n",
        "2.   MFI starts to gradually decrease over time showing falling buying pressure.\n",
        "\n",
        "**Conditions for Long Entry**\n",
        "\n",
        "1.   Supertrend reverses direction\n",
        "2.   MFI starts to gradually increase over time showing falling selling pressure."
      ]
    },
    {
      "cell_type": "markdown",
      "metadata": {
        "id": "oV76K5wcTkD-"
      },
      "source": [
        "*Alternative Rule Variant*\n",
        "\n",
        "One possible addition to introduce further nuance into deciding the best possible entry position could be to use ATR *(Average True Rate)* to allow entries only when the market has the necessary momentum to carry a successful trade. We can also introduce MFI thresholds to quantify what constitutes a sharp MFI fall/rise in a given interval of time, for e.g. say MFI reaching 30 from an oversold position in a certain interval."
      ]
    },
    {
      "cell_type": "markdown",
      "metadata": {
        "id": "3vsELMRSVpRq"
      },
      "source": [
        "\n",
        "\n",
        "---\n",
        "\n",
        "# **3. Strategy Implementation and Backtest**"
      ]
    },
    {
      "cell_type": "code",
      "execution_count": 10,
      "metadata": {
        "colab": {
          "base_uri": "https://localhost:8080/",
          "height": 206
        },
        "id": "D5_90XV1V1pj",
        "outputId": "62aaf6cd-eb64-4926-c768-3ca153727cb1"
      },
      "outputs": [
        {
          "name": "stderr",
          "output_type": "stream",
          "text": [
            "/var/folders/9s/5wp3sp9961xdmx9cwzg728680000gn/T/ipykernel_29468/2074948950.py:3: FutureWarning:\n",
            "\n",
            "YF.download() has changed argument auto_adjust default to True\n",
            "\n"
          ]
        },
        {
          "data": {
            "text/html": [
              "<div>\n",
              "<style scoped>\n",
              "    .dataframe tbody tr th:only-of-type {\n",
              "        vertical-align: middle;\n",
              "    }\n",
              "\n",
              "    .dataframe tbody tr th {\n",
              "        vertical-align: top;\n",
              "    }\n",
              "\n",
              "    .dataframe thead th {\n",
              "        text-align: right;\n",
              "    }\n",
              "</style>\n",
              "<table border=\"1\" class=\"dataframe\">\n",
              "  <thead>\n",
              "    <tr style=\"text-align: right;\">\n",
              "      <th></th>\n",
              "      <th>timestamp</th>\n",
              "      <th>close</th>\n",
              "      <th>high</th>\n",
              "      <th>low</th>\n",
              "      <th>open</th>\n",
              "      <th>volume</th>\n",
              "    </tr>\n",
              "  </thead>\n",
              "  <tbody>\n",
              "    <tr>\n",
              "      <th>0</th>\n",
              "      <td>2024-01-01</td>\n",
              "      <td>2601.022705</td>\n",
              "      <td>2629.011811</td>\n",
              "      <td>2595.915969</td>\n",
              "      <td>2611.334481</td>\n",
              "      <td>66066</td>\n",
              "    </tr>\n",
              "    <tr>\n",
              "      <th>1</th>\n",
              "      <td>2024-01-02</td>\n",
              "      <td>2621.842529</td>\n",
              "      <td>2646.689046</td>\n",
              "      <td>2603.035911</td>\n",
              "      <td>2607.406092</td>\n",
              "      <td>143141</td>\n",
              "    </tr>\n",
              "    <tr>\n",
              "      <th>2</th>\n",
              "      <td>2024-01-03</td>\n",
              "      <td>2604.558350</td>\n",
              "      <td>2637.654193</td>\n",
              "      <td>2602.004862</td>\n",
              "      <td>2622.824781</td>\n",
              "      <td>112428</td>\n",
              "    </tr>\n",
              "    <tr>\n",
              "      <th>3</th>\n",
              "      <td>2024-01-04</td>\n",
              "      <td>2659.799805</td>\n",
              "      <td>2695.547197</td>\n",
              "      <td>2623.119251</td>\n",
              "      <td>2627.047546</td>\n",
              "      <td>268532</td>\n",
              "    </tr>\n",
              "    <tr>\n",
              "      <th>4</th>\n",
              "      <td>2024-01-05</td>\n",
              "      <td>2698.886230</td>\n",
              "      <td>2718.380493</td>\n",
              "      <td>2663.580723</td>\n",
              "      <td>2676.396835</td>\n",
              "      <td>354882</td>\n",
              "    </tr>\n",
              "  </tbody>\n",
              "</table>\n",
              "</div>"
            ],
            "text/plain": [
              "   timestamp        close         high          low         open  volume\n",
              "0 2024-01-01  2601.022705  2629.011811  2595.915969  2611.334481   66066\n",
              "1 2024-01-02  2621.842529  2646.689046  2603.035911  2607.406092  143141\n",
              "2 2024-01-03  2604.558350  2637.654193  2602.004862  2622.824781  112428\n",
              "3 2024-01-04  2659.799805  2695.547197  2623.119251  2627.047546  268532\n",
              "4 2024-01-05  2698.886230  2718.380493  2663.580723  2676.396835  354882"
            ]
          },
          "execution_count": 10,
          "metadata": {},
          "output_type": "execute_result"
        }
      ],
      "source": [
        "def download_flat_yf(ticker, start, end, interval):\n",
        "\n",
        "  data = yf.download(ticker, start=start, end=end, interval=interval,\n",
        " progress=False)\n",
        "  if isinstance(data.columns, pd.MultiIndex):\n",
        "       data = data.xs(ticker, axis=1, level=1)\n",
        "  data.columns.name = None\n",
        "  data.reset_index(inplace=True)\n",
        "  data.columns = [col.lower() for col in data.columns]\n",
        "  if data.columns[0] in ['date', 'datetime']:\n",
        "       data.rename(columns={data.columns[0]: 'timestamp'}, inplace=True)\n",
        "       data['timestamp'] = pd.to_datetime(data['timestamp'])\n",
        "  return data\n",
        "\n",
        "stock_symbol = 'CAMS.NS'\n",
        "data = download_flat_yf(stock_symbol, start='2024-01-01', end= '2025-05-04', interval='1d')\n",
        "data.head()"
      ]
    },
    {
      "cell_type": "code",
      "execution_count": 11,
      "metadata": {
        "collapsed": true,
        "id": "AACVz40aZmja"
      },
      "outputs": [],
      "source": [
        "def calculate_typical_price(df):\n",
        "    return (df['High'] + df['Low'] + df['Close']) / 3\n",
        "\n",
        "def calculate_mfi(df, window=14):\n",
        "    tp = calculate_typical_price(df)\n",
        "    volume = df['Volume']\n",
        "\n",
        "    money_flow = tp * volume\n",
        "\n",
        "    positive_mf = np.where(tp > tp.shift(1), money_flow, 0)\n",
        "    negative_mf = np.where(tp < tp.shift(1), money_flow, 0)\n",
        "\n",
        "    positive_mf_sum = pd.Series(positive_mf).rolling(window=window).sum()\n",
        "    negative_mf_sum = pd.Series(negative_mf).rolling(window=window).sum()\n",
        "\n",
        "    mfi = 100 - (100 / (1 + positive_mf_sum / negative_mf_sum))\n",
        "    return mfi\n",
        "\n",
        "def calculate_supertrend(df, period=10, multiplier=3):\n",
        "    df['tr'] = np.maximum(np.maximum(df['High'] - df['Low'], abs(df['High'] - df['Close'].shift(1))), abs(df['Low'] - df['Close'].shift(1)))\n",
        "    df['atr'] = df['tr'].rolling(period).mean()\n",
        "\n",
        "    df['basic_upper'] = (df['High'] + df['Low']) / 2 + multiplier * df['atr']\n",
        "    df['basic_lower'] = (df['High'] + df['Low']) / 2 - multiplier * df['atr']\n",
        "\n",
        "    df['final_upper'] = df['basic_upper']\n",
        "    df['final_lower'] = df['basic_lower']\n",
        "\n",
        "    for i in range(1, len(df)):\n",
        "      if df['Close'].iloc[i] > df['final_upper'].iloc[i-1]:\n",
        "        df.loc[df.index[i], 'final_upper'] = df['basic_upper'].iloc[i]\n",
        "      else:\n",
        "        df.loc[df.index[i], 'final_upper'] = min(df['basic_upper'].iloc[i], df['final_upper'].iloc[i-1])\n",
        "\n",
        "      if df['Close'].iloc[i] < df['final_lower'].iloc[i-1]:\n",
        "        df.loc[df.index[i], 'final_lower'] = df['basic_lower'].iloc[i]\n",
        "      else:\n",
        "        df.loc[df.index[i], 'final_lower'] = max(df['basic_lower'].iloc[i], df['final_lower'].iloc[i-1])\n",
        "\n",
        "    df['supertrend'] = np.nan\n",
        "    for i in range(period, len(df)):\n",
        "        if df['Close'].iloc[i] > df['final_upper'].iloc[i-1]:\n",
        "          df.loc[df.index[i], 'supertrend'] = df['final_lower'].iloc[i]\n",
        "        elif df['Close'].iloc[i] < df['final_lower'].iloc[i-1]:\n",
        "          df.loc[df.index[i], 'supertrend'] = df['final_upper'].iloc[i]\n",
        "        else:\n",
        "          df.loc[df.index[i], 'supertrend'] = df['supertrend'].iloc[i-1]\n",
        "\n",
        "    return df['supertrend']\n",
        "\n",
        "mfi_window=14\n",
        "supertrend_period=10\n",
        "supertrend_multiplier=3\n",
        "mfi_oversold=30\n",
        "mfi_overbought=70\n",
        "mfi_delta_threshold=5\n",
        "\n",
        "stock_data['mfi'] = calculate_mfi(stock_data.copy(), window=mfi_window)\n",
        "stock_data['supertrend'] = calculate_supertrend(stock_data.copy(), period=supertrend_period, multiplier=supertrend_multiplier)"
      ]
    },
    {
      "cell_type": "code",
      "execution_count": 12,
      "metadata": {
        "id": "-f4_MbG2mQbC"
      },
      "outputs": [],
      "source": [
        "stock_data['Signals'] = 0\n",
        "\n",
        "for i in range(1, len(stock_data)):\n",
        "\n",
        "    long_entry_condition_1 = (stock_data['supertrend'].iloc[i] < stock_data['Close'].iloc[i]) and (stock_data['supertrend'].iloc[i-1] >= stock_data['Close'].iloc[i-1])\n",
        "    long_entry_condition_2 = (stock_data['mfi'].iloc[i] > stock_data['mfi'].iloc[i-1] + mfi_delta_threshold) and (stock_data['mfi'].iloc[i-1] <= mfi_oversold)\n",
        "\n",
        "    if long_entry_condition_1 and long_entry_condition_2:\n",
        "        stock_data.loc[stock_data.index[i], 'Signals'] = 1\n",
        "\n",
        "    short_entry_condition_1 = (stock_data['supertrend'].iloc[i] > stock_data['Close'].iloc[i]) and (stock_data['supertrend'].iloc[i-1] <= stock_data['Close'].iloc[i-1])\n",
        "    short_entry_condition_2 = (stock_data['mfi'].iloc[i] < stock_data['mfi'].iloc[i-1] - mfi_delta_threshold) and (stock_data['mfi'].iloc[i-1] >= mfi_overbought)\n",
        "\n",
        "    if short_entry_condition_1 and short_entry_condition_2:\n",
        "        stock_data.loc[stock_data.index[i], 'Signals'] = -1"
      ]
    },
    {
      "cell_type": "code",
      "execution_count": 13,
      "metadata": {
        "id": "nYrXYtl-hf4p"
      },
      "outputs": [],
      "source": [
        "def perform_backtest(dataframe, lev=1, initial_capital=100000 , lot_size=1, tsl=100):\n",
        "    dataframe = dataframe.copy()\n",
        "    capital_list = [initial_capital]\n",
        "    trade = 0  # 0 = no Open trade, 1 = long trade Open, -1 = short trade Open\n",
        "    position_size = 0\n",
        "    trade_profit = []\n",
        "    entry, exit = [], []\n",
        "    entry_index, exit_index = [], []\n",
        "    nol, nos = 0, 0  # Number of long and short trades\n",
        "    long_profit, short_profit = [], []\n",
        "    trade_type = []\n",
        "    position_size_list = []\n",
        "\n",
        "    # Calculate benchmark returns over entire backtest period\n",
        "    benchmark_returns = (dataframe.loc[dataframe.index[-1], 'Close'] / dataframe.loc[dataframe.index[0], 'Close'] - 1) * 100\n",
        "\n",
        "    # Calculate backtest period in years and months\n",
        "    backtest_period = dataframe.loc[dataframe.index[-1], 'timestamp'] - dataframe.loc[dataframe.index[0], 'timestamp']\n",
        "    total_days = backtest_period.days\n",
        "    years = total_days // 365\n",
        "    remaining_days = total_days % 365\n",
        "    months = remaining_days // 30\n",
        "\n",
        "    max_price = 0  # For tracking trailing stop price\n",
        "\n",
        "    for i in range(len(dataframe)):\n",
        "        date = dataframe.loc[i, 'timestamp']\n",
        "        current_price = dataframe.loc[i, 'Close']\n",
        "        high_price = dataframe.loc[i, 'High']\n",
        "\n",
        "        # Stop if capital is exhausted\n",
        "        if capital_list[-1] <= 0:\n",
        "            print(f'Complete capital lost on {date}')\n",
        "            break\n",
        "\n",
        "        # Open Long trade if no trade is Open and signal is long (1)\n",
        "        if trade == 0 and dataframe.loc[i, 'Signals'] == 1:\n",
        "            position_size = (capital_list[-1] * lev) // (current_price * lot_size)\n",
        "            cost = position_size * current_price * lot_size\n",
        "            if cost > 0:\n",
        "                position_size_list.append(position_size * lot_size)\n",
        "                trade = 1\n",
        "                entry.append(date)\n",
        "                entry_index.append(i)\n",
        "                max_price = current_price  # Initialize max price for trailing stop\n",
        "            else:\n",
        "                position_size = 0\n",
        "\n",
        "        # Open Short trade if no trade is Open and signal is short (-1)\n",
        "        elif trade == 0 and dataframe.loc[i, 'Signals'] == -1:\n",
        "            position_size = (capital_list[-1] * lev) // (current_price * lot_size)\n",
        "            cost = position_size * current_price * lot_size\n",
        "            if cost > 0:\n",
        "                position_size_list.append(position_size * lot_size)\n",
        "                trade = -1\n",
        "                entry.append(date)\n",
        "                entry_index.append(i)\n",
        "                max_price = current_price  # Initialize min price for trailing stop (will update below)\n",
        "            else:\n",
        "                position_size = 0\n",
        "\n",
        "        # Manage Open trade and trailing stop\n",
        "        elif trade != 0:\n",
        "            if trade == 1:\n",
        "                # Update max price seen during long trade for trailing stop loss\n",
        "                max_price = max(max_price, high_price)\n",
        "                # Check if current Close triggers trailing stop loss exit\n",
        "                if dataframe.loc[i, 'Close'] <= (1 - tsl / 100) * max_price:\n",
        "                    # Set signal to Close long and Open short (or just Close)\n",
        "                    dataframe.loc[i, 'Signals'] = -1  # force exit long\n",
        "                    max_price = 0\n",
        "\n",
        "            elif trade == -1:\n",
        "                # For short, track minimum price for trailing stop loss\n",
        "                max_price = min(max_price, high_price)\n",
        "                # Check if current Close triggers trailing stop loss exit\n",
        "                if dataframe.loc[i, 'Close'] >= (1 + tsl / 100) * max_price:\n",
        "                    dataframe.loc[i, 'Signals'] = 1  # force exit short\n",
        "                    max_price = 0\n",
        "\n",
        "\n",
        "            if dataframe.loc[i, 'Signals'] * trade == -1:\n",
        "                exit.append(date)\n",
        "                exit_index.append(i)\n",
        "                if trade == 1:\n",
        "                    nol += 1\n",
        "                    profit = lot_size * current_price * position_size - cost\n",
        "                else:\n",
        "                    nos += 1\n",
        "                    profit = cost - lot_size * current_price * position_size\n",
        "\n",
        "                capital_list.append(capital_list[-1] + profit)\n",
        "                trade_profit.append(profit)\n",
        "\n",
        "                if trade == 1:\n",
        "                    long_profit.append(profit)\n",
        "                else:\n",
        "                    short_profit.append(profit)\n",
        "\n",
        "                trade_type.append('Long' if trade == 1 else 'Short')\n",
        "                trade = 0\n",
        "                position_size = 0\n",
        "                cost = 0\n",
        "\n",
        "\n",
        "    if trade != 0:\n",
        "        exit.append(dataframe.iloc[-1]['timestamp'])\n",
        "        exit_index.append(len(dataframe) - 1)\n",
        "        if trade == 1:\n",
        "            nol += 1\n",
        "            profit = dataframe.iloc[-1]['Close'] * position_size * lot_size - cost\n",
        "            trade_type.append('Long')\n",
        "        else:\n",
        "            nos += 1\n",
        "            profit = cost - dataframe.iloc[-1]['Close'] * position_size * lot_size\n",
        "            trade_type.append('Short')\n",
        "        capital_list.append(capital_list[-1] + profit)\n",
        "        trade_profit.append(profit)\n",
        "\n",
        "\n",
        "    returns = np.diff(capital_list) / capital_list[:-1]\n",
        "    downside_returns = returns[returns < 0]\n",
        "\n",
        "    sharpe_ratio = np.mean(returns) / np.std(returns) * np.sqrt(252) if len(returns) > 0 and np.std(returns) > 0 else float('nan')\n",
        "    sortino_ratio = np.mean(returns) / np.std(downside_returns) * np.sqrt(252) if len(downside_returns) > 0 and np.std(downside_returns) > 0 else float('nan')\n",
        "\n",
        "    number_of_trades = len(trade_profit)\n",
        "\n",
        "    capital_series = pd.Series(capital_list)\n",
        "    running_max = capital_series.cummax()\n",
        "    drawdowns = (capital_series - running_max) / running_max\n",
        "    drawdowns = drawdowns[drawdowns <= 0]\n",
        "\n",
        "    print(f'BACKTEST RESULTS:')\n",
        "    if number_of_trades == 0:\n",
        "        print('No trades taken')\n",
        "        return\n",
        "\n",
        "    print(f\"Backtest Period: {years} years and {months} months\")\n",
        "    print(f'Benchmark Returns: {benchmark_returns * lev:.2f} %')\n",
        "    print(f'Initial Capital: {capital_list[0]}')\n",
        "    print(f'Final Capital: {capital_list[-1]:.2f}')\n",
        "    print(f'Profit percentage: {(capital_list[-1] - capital_list[0]) / capital_list[0] * 100:.2f} %')\n",
        "    print(f'Leverage applied: {lev}')\n",
        "    print(f'Maximum Portfolio balance: {max(capital_list):.2f}')\n",
        "    print(f'Minimum Portfolio balance: {min(capital_list):.2f}')\n",
        "    print(f'Number of trades: {number_of_trades}')\n",
        "\n",
        "    win = sum(1 for profit in trade_profit if profit > 0)\n",
        "    print(f'Winning Trades: {win}')\n",
        "    print(f'Losing Trades: {number_of_trades - win}')\n",
        "    print(f'Win Rate: {win / number_of_trades * 100:.2f} %')\n",
        "\n",
        "    try:\n",
        "        avg_profit = statistics.mean([x for x in trade_profit if x > 0])\n",
        "    except:\n",
        "        avg_profit = 0\n",
        "    try:\n",
        "        avg_loss = statistics.mean([x for x in trade_profit if x <= 0])\n",
        "    except:\n",
        "        avg_loss = 0\n",
        "\n",
        "    print(f'Average Profit: {avg_profit:.2f}')\n",
        "    print(f'Average Loss: {avg_loss:.2f}')\n",
        "    print(f'No of Long Trades: {nol}')\n",
        "    print(f'No of Short Trades: {nos}')\n",
        "    print(f'Average drawdown: {np.mean(drawdowns) * 100:.2f} %')\n",
        "    print(f'Maximum drawdown: {np.min(drawdowns) * 100:.2f} %')\n",
        "    print(f'Sharpe Ratio: {sharpe_ratio:.2f}')\n",
        "    print(f'Sortino Ratio: {sortino_ratio:.2f}')\n",
        "\n",
        "\n",
        "    if entry and exit:\n",
        "        holding_times = [(exit[i] - entry[i]) for i in range(len(entry))]\n",
        "        max_holding_time = max(holding_times)\n",
        "        days = max_holding_time.days\n",
        "        hours, remainder = divmod(max_holding_time.seconds, 3600)\n",
        "        minutes, seconds = divmod(remainder, 60)\n",
        "        print(f'Maximum Holding Time: {days} days, {hours:02}:{minutes:02}:{seconds:02}')\n",
        "\n",
        "        avg_holding_time = sum(holding_times, pd.Timedelta(0)) / len(holding_times)\n",
        "        days_avg = avg_holding_time.days\n",
        "        hours_avg, remainder_avg = divmod(avg_holding_time.seconds, 3600)\n",
        "        minutes_avg, seconds_avg = divmod(remainder_avg, 60)\n",
        "        print(f'Average Holding Time: {days_avg} days, {hours_avg:02}:{minutes_avg:02}:{seconds_avg:02}')\n",
        "\n",
        "    fig = sp.make_subplots(\n",
        "        rows=2, cols=1, shared_xaxes=True,\n",
        "        subplot_titles=('Equity Curve', 'Price Action with Entry and Exit Points'),\n",
        "        vertical_spacing=0.1\n",
        "    )\n",
        "\n",
        "    fig.add_trace(go.Scatter(\n",
        "        y=capital_list,\n",
        "        mode='lines',\n",
        "        name='Capital',\n",
        "        line=dict(color='green')\n",
        "    ), row=1, col=1)\n",
        "\n",
        "    fig.add_trace(go.Scatter(\n",
        "        x=dataframe['timestamp'],\n",
        "        y=dataframe['Close'],\n",
        "        mode='lines',\n",
        "        name='Close Price',\n",
        "        line=dict(color='blue')\n",
        "    ), row=2, col=1)\n",
        "\n",
        "    # Entry markers\n",
        "    fig.add_trace(go.Scatter(\n",
        "        x=[dataframe['timestamp'].iloc[i] for i in entry_index],\n",
        "        y=[dataframe['Close'].iloc[i] for i in entry_index],\n",
        "        mode='markers',\n",
        "        marker=dict(symbol='triangle-up', color='green', size=10),\n",
        "        name='Entry'\n",
        "    ), row=2, col=1)\n",
        "\n",
        "\n",
        "    fig.add_trace(go.Scatter(\n",
        "        x=[dataframe['timestamp'].iloc[i] for i in exit_index],\n",
        "        y=[dataframe['Close'].iloc[i] for i in exit_index],\n",
        "        mode='markers',\n",
        "        marker=dict(symbol='triangle-down', color='red', size=10),\n",
        "        name='Exit'\n",
        "    ), row=2, col=1)\n",
        "\n",
        "    fig.update_layout(\n",
        "        height=800,\n",
        "        title_text='Backtest Visualizations',\n",
        "        showlegend=True,\n",
        "        template='plotly_white'\n",
        "    )\n",
        "\n",
        "    fig.update_xaxes(title_text='Time', row=2, col=1)\n",
        "    fig.update_yaxes(title_text='Capital', row=1, col=1)\n",
        "    fig.update_yaxes(title_text='Price', row=2, col=1)\n",
        "\n",
        "    fig.show()\n",
        "\n",
        "\n",
        "    trade_log = pd.DataFrame({\n",
        "        'Entry Candle': entry,\n",
        "        'Exit Candle': exit,\n",
        "        'PnL': trade_profit,\n",
        "        'Number of units': position_size_list,\n",
        "        'Trade type': trade_type\n",
        "    })\n",
        "\n",
        "    return trade_log"
      ]
    },
    {
      "cell_type": "code",
      "execution_count": 14,
      "metadata": {
        "id": "fyqj3wPokh78"
      },
      "outputs": [],
      "source": [
        "def remove_redundant_signals(data):\n",
        "    prev_signal = 0\n",
        "    prev_i = 0\n",
        "    trade = 0\n",
        "\n",
        "    for i in range(len(data)):\n",
        "        if prev_signal == 0 and data.loc[i, 'Signals'] != 0:\n",
        "            prev_signal = data.loc[i, 'Signals']\n",
        "            prev_i = i\n",
        "\n",
        "        elif prev_signal != 0:\n",
        "            if data.loc[i, 'Signals'] * prev_signal > 0:\n",
        "                data.loc[i, 'Signals'] = 0\n",
        "            elif data.loc[i, 'Signals'] * prev_signal < 0:\n",
        "                trade = (\n",
        "                    data.loc[prev_i, 'Close'] - data.loc[i, 'Close']\n",
        "                    if prev_signal < 0\n",
        "                    else data.loc[i, 'Close'] - data.loc[prev_i, 'Close']\n",
        "                )\n",
        "                prev_signal = data.loc[i, 'Signals']\n",
        "                prev_i = i\n",
        "\n",
        "    return data"
      ]
    },
    {
      "cell_type": "code",
      "execution_count": 15,
      "metadata": {
        "colab": {
          "base_uri": "https://localhost:8080/",
          "height": 1000
        },
        "id": "X5jaxuERle9S",
        "outputId": "ccdac36d-bf6e-4ef9-d1ee-d58cc194cde8"
      },
      "outputs": [
        {
          "name": "stdout",
          "output_type": "stream",
          "text": [
            "BACKTEST RESULTS:\n",
            "Backtest Period: 4 years and 12 months\n",
            "Benchmark Returns: 346.59 %\n",
            "Initial Capital: 100000\n",
            "Final Capital: 43026.80\n",
            "Profit percentage: -56.97 %\n",
            "Leverage applied: 1\n",
            "Maximum Portfolio balance: 100000.00\n",
            "Minimum Portfolio balance: 43026.80\n",
            "Number of trades: 1\n",
            "Winning Trades: 0\n",
            "Losing Trades: 1\n",
            "Win Rate: 0.00 %\n",
            "Average Profit: 0.00\n",
            "Average Loss: -56973.20\n",
            "No of Long Trades: 0\n",
            "No of Short Trades: 1\n",
            "Average drawdown: -28.49 %\n",
            "Maximum drawdown: -56.97 %\n",
            "Sharpe Ratio: nan\n",
            "Sortino Ratio: nan\n",
            "Maximum Holding Time: 175 days, 00:00:00\n",
            "Average Holding Time: 175 days, 00:00:00\n"
          ]
        },
        {
          "data": {
            "application/vnd.plotly.v1+json": {
              "config": {
                "plotlyServerURL": "https://plot.ly"
              },
              "data": [
                {
                  "line": {
                    "color": "green"
                  },
                  "mode": "lines",
                  "name": "Capital",
                  "type": "scatter",
                  "xaxis": "x",
                  "y": [
                    100000,
                    43026.79504394531
                  ],
                  "yaxis": "y"
                },
                {
                  "line": {
                    "color": "blue"
                  },
                  "mode": "lines",
                  "name": "Close Price",
                  "type": "scatter",
                  "x": [
                    "2017-01-02T00:00:00.000000000",
                    "2017-01-09T00:00:00.000000000",
                    "2017-01-16T00:00:00.000000000",
                    "2017-01-23T00:00:00.000000000",
                    "2017-01-30T00:00:00.000000000",
                    "2017-02-06T00:00:00.000000000",
                    "2017-02-13T00:00:00.000000000",
                    "2017-02-20T00:00:00.000000000",
                    "2017-02-27T00:00:00.000000000",
                    "2017-03-06T00:00:00.000000000",
                    "2017-03-13T00:00:00.000000000",
                    "2017-03-20T00:00:00.000000000",
                    "2017-03-27T00:00:00.000000000",
                    "2017-04-03T00:00:00.000000000",
                    "2017-04-10T00:00:00.000000000",
                    "2017-04-17T00:00:00.000000000",
                    "2017-04-24T00:00:00.000000000",
                    "2017-05-01T00:00:00.000000000",
                    "2017-05-08T00:00:00.000000000",
                    "2017-05-15T00:00:00.000000000",
                    "2017-05-22T00:00:00.000000000",
                    "2017-05-29T00:00:00.000000000",
                    "2017-06-05T00:00:00.000000000",
                    "2017-06-12T00:00:00.000000000",
                    "2017-06-19T00:00:00.000000000",
                    "2017-06-26T00:00:00.000000000",
                    "2017-07-03T00:00:00.000000000",
                    "2017-07-10T00:00:00.000000000",
                    "2017-07-17T00:00:00.000000000",
                    "2017-07-24T00:00:00.000000000",
                    "2017-07-31T00:00:00.000000000",
                    "2017-08-07T00:00:00.000000000",
                    "2017-08-14T00:00:00.000000000",
                    "2017-08-21T00:00:00.000000000",
                    "2017-08-28T00:00:00.000000000",
                    "2017-09-04T00:00:00.000000000",
                    "2017-09-11T00:00:00.000000000",
                    "2017-09-18T00:00:00.000000000",
                    "2017-09-25T00:00:00.000000000",
                    "2017-10-02T00:00:00.000000000",
                    "2017-10-09T00:00:00.000000000",
                    "2017-10-16T00:00:00.000000000",
                    "2017-10-23T00:00:00.000000000",
                    "2017-10-30T00:00:00.000000000",
                    "2017-11-06T00:00:00.000000000",
                    "2017-11-13T00:00:00.000000000",
                    "2017-11-20T00:00:00.000000000",
                    "2017-11-27T00:00:00.000000000",
                    "2017-12-04T00:00:00.000000000",
                    "2017-12-11T00:00:00.000000000",
                    "2017-12-18T00:00:00.000000000",
                    "2017-12-25T00:00:00.000000000",
                    "2018-01-01T00:00:00.000000000",
                    "2018-01-08T00:00:00.000000000",
                    "2018-01-15T00:00:00.000000000",
                    "2018-01-22T00:00:00.000000000",
                    "2018-01-29T00:00:00.000000000",
                    "2018-02-05T00:00:00.000000000",
                    "2018-02-12T00:00:00.000000000",
                    "2018-02-19T00:00:00.000000000",
                    "2018-02-26T00:00:00.000000000",
                    "2018-03-05T00:00:00.000000000",
                    "2018-03-12T00:00:00.000000000",
                    "2018-03-19T00:00:00.000000000",
                    "2018-03-26T00:00:00.000000000",
                    "2018-04-02T00:00:00.000000000",
                    "2018-04-09T00:00:00.000000000",
                    "2018-04-16T00:00:00.000000000",
                    "2018-04-23T00:00:00.000000000",
                    "2018-04-30T00:00:00.000000000",
                    "2018-05-07T00:00:00.000000000",
                    "2018-05-14T00:00:00.000000000",
                    "2018-05-21T00:00:00.000000000",
                    "2018-05-28T00:00:00.000000000",
                    "2018-06-04T00:00:00.000000000",
                    "2018-06-11T00:00:00.000000000",
                    "2018-06-18T00:00:00.000000000",
                    "2018-06-25T00:00:00.000000000",
                    "2018-07-02T00:00:00.000000000",
                    "2018-07-09T00:00:00.000000000",
                    "2018-07-16T00:00:00.000000000",
                    "2018-07-23T00:00:00.000000000",
                    "2018-07-30T00:00:00.000000000",
                    "2018-08-06T00:00:00.000000000",
                    "2018-08-13T00:00:00.000000000",
                    "2018-08-20T00:00:00.000000000",
                    "2018-08-27T00:00:00.000000000",
                    "2018-09-03T00:00:00.000000000",
                    "2018-09-10T00:00:00.000000000",
                    "2018-09-17T00:00:00.000000000",
                    "2018-09-24T00:00:00.000000000",
                    "2018-10-01T00:00:00.000000000",
                    "2018-10-08T00:00:00.000000000",
                    "2018-10-15T00:00:00.000000000",
                    "2018-10-22T00:00:00.000000000",
                    "2018-10-29T00:00:00.000000000",
                    "2018-11-05T00:00:00.000000000",
                    "2018-11-12T00:00:00.000000000",
                    "2018-11-19T00:00:00.000000000",
                    "2018-11-26T00:00:00.000000000",
                    "2018-12-03T00:00:00.000000000",
                    "2018-12-10T00:00:00.000000000",
                    "2018-12-17T00:00:00.000000000",
                    "2018-12-24T00:00:00.000000000",
                    "2018-12-31T00:00:00.000000000",
                    "2019-01-07T00:00:00.000000000",
                    "2019-01-14T00:00:00.000000000",
                    "2019-01-21T00:00:00.000000000",
                    "2019-01-28T00:00:00.000000000",
                    "2019-02-04T00:00:00.000000000",
                    "2019-02-11T00:00:00.000000000",
                    "2019-02-18T00:00:00.000000000",
                    "2019-02-25T00:00:00.000000000",
                    "2019-03-04T00:00:00.000000000",
                    "2019-03-11T00:00:00.000000000",
                    "2019-03-18T00:00:00.000000000",
                    "2019-03-25T00:00:00.000000000",
                    "2019-04-01T00:00:00.000000000",
                    "2019-04-08T00:00:00.000000000",
                    "2019-04-15T00:00:00.000000000",
                    "2019-04-22T00:00:00.000000000",
                    "2019-04-29T00:00:00.000000000",
                    "2019-05-06T00:00:00.000000000",
                    "2019-05-13T00:00:00.000000000",
                    "2019-05-20T00:00:00.000000000",
                    "2019-05-27T00:00:00.000000000",
                    "2019-06-03T00:00:00.000000000",
                    "2019-06-10T00:00:00.000000000",
                    "2019-06-17T00:00:00.000000000",
                    "2019-06-24T00:00:00.000000000",
                    "2019-07-01T00:00:00.000000000",
                    "2019-07-08T00:00:00.000000000",
                    "2019-07-15T00:00:00.000000000",
                    "2019-07-22T00:00:00.000000000",
                    "2019-07-29T00:00:00.000000000",
                    "2019-08-05T00:00:00.000000000",
                    "2019-08-12T00:00:00.000000000",
                    "2019-08-19T00:00:00.000000000",
                    "2019-08-26T00:00:00.000000000",
                    "2019-09-02T00:00:00.000000000",
                    "2019-09-09T00:00:00.000000000",
                    "2019-09-16T00:00:00.000000000",
                    "2019-09-23T00:00:00.000000000",
                    "2019-09-30T00:00:00.000000000",
                    "2019-10-07T00:00:00.000000000",
                    "2019-10-14T00:00:00.000000000",
                    "2019-10-21T00:00:00.000000000",
                    "2019-10-28T00:00:00.000000000",
                    "2019-11-04T00:00:00.000000000",
                    "2019-11-11T00:00:00.000000000",
                    "2019-11-18T00:00:00.000000000",
                    "2019-11-25T00:00:00.000000000",
                    "2019-12-02T00:00:00.000000000",
                    "2019-12-09T00:00:00.000000000",
                    "2019-12-16T00:00:00.000000000",
                    "2019-12-23T00:00:00.000000000",
                    "2019-12-30T00:00:00.000000000",
                    "2020-01-06T00:00:00.000000000",
                    "2020-01-13T00:00:00.000000000",
                    "2020-01-20T00:00:00.000000000",
                    "2020-01-27T00:00:00.000000000",
                    "2020-02-03T00:00:00.000000000",
                    "2020-02-10T00:00:00.000000000",
                    "2020-02-17T00:00:00.000000000",
                    "2020-02-24T00:00:00.000000000",
                    "2020-03-02T00:00:00.000000000",
                    "2020-03-09T00:00:00.000000000",
                    "2020-03-16T00:00:00.000000000",
                    "2020-03-23T00:00:00.000000000",
                    "2020-03-30T00:00:00.000000000",
                    "2020-04-06T00:00:00.000000000",
                    "2020-04-13T00:00:00.000000000",
                    "2020-04-20T00:00:00.000000000",
                    "2020-04-27T00:00:00.000000000",
                    "2020-05-04T00:00:00.000000000",
                    "2020-05-11T00:00:00.000000000",
                    "2020-05-18T00:00:00.000000000",
                    "2020-05-25T00:00:00.000000000",
                    "2020-06-01T00:00:00.000000000",
                    "2020-06-08T00:00:00.000000000",
                    "2020-06-15T00:00:00.000000000",
                    "2020-06-22T00:00:00.000000000",
                    "2020-06-29T00:00:00.000000000",
                    "2020-07-06T00:00:00.000000000",
                    "2020-07-13T00:00:00.000000000",
                    "2020-07-20T00:00:00.000000000",
                    "2020-07-27T00:00:00.000000000",
                    "2020-08-03T00:00:00.000000000",
                    "2020-08-10T00:00:00.000000000",
                    "2020-08-17T00:00:00.000000000",
                    "2020-08-24T00:00:00.000000000",
                    "2020-08-31T00:00:00.000000000",
                    "2020-09-07T00:00:00.000000000",
                    "2020-09-14T00:00:00.000000000",
                    "2020-09-21T00:00:00.000000000",
                    "2020-09-28T00:00:00.000000000",
                    "2020-10-05T00:00:00.000000000",
                    "2020-10-12T00:00:00.000000000",
                    "2020-10-19T00:00:00.000000000",
                    "2020-10-26T00:00:00.000000000",
                    "2020-11-02T00:00:00.000000000",
                    "2020-11-09T00:00:00.000000000",
                    "2020-11-16T00:00:00.000000000",
                    "2020-11-23T00:00:00.000000000",
                    "2020-11-30T00:00:00.000000000",
                    "2020-12-07T00:00:00.000000000",
                    "2020-12-14T00:00:00.000000000",
                    "2020-12-21T00:00:00.000000000",
                    "2020-12-28T00:00:00.000000000",
                    "2021-01-04T00:00:00.000000000",
                    "2021-01-11T00:00:00.000000000",
                    "2021-01-18T00:00:00.000000000",
                    "2021-01-25T00:00:00.000000000",
                    "2021-02-01T00:00:00.000000000",
                    "2021-02-08T00:00:00.000000000",
                    "2021-02-15T00:00:00.000000000",
                    "2021-02-22T00:00:00.000000000",
                    "2021-03-01T00:00:00.000000000",
                    "2021-03-08T00:00:00.000000000",
                    "2021-03-15T00:00:00.000000000",
                    "2021-03-22T00:00:00.000000000",
                    "2021-03-29T00:00:00.000000000",
                    "2021-04-05T00:00:00.000000000",
                    "2021-04-12T00:00:00.000000000",
                    "2021-04-19T00:00:00.000000000",
                    "2021-04-26T00:00:00.000000000",
                    "2021-05-03T00:00:00.000000000",
                    "2021-05-10T00:00:00.000000000",
                    "2021-05-17T00:00:00.000000000",
                    "2021-05-24T00:00:00.000000000",
                    "2021-05-31T00:00:00.000000000",
                    "2021-06-07T00:00:00.000000000",
                    "2021-06-14T00:00:00.000000000",
                    "2021-06-21T00:00:00.000000000",
                    "2021-06-28T00:00:00.000000000",
                    "2021-07-05T00:00:00.000000000",
                    "2021-07-12T00:00:00.000000000",
                    "2021-07-19T00:00:00.000000000",
                    "2021-07-26T00:00:00.000000000",
                    "2021-08-02T00:00:00.000000000",
                    "2021-08-09T00:00:00.000000000",
                    "2021-08-16T00:00:00.000000000",
                    "2021-08-23T00:00:00.000000000",
                    "2021-08-30T00:00:00.000000000",
                    "2021-09-06T00:00:00.000000000",
                    "2021-09-13T00:00:00.000000000",
                    "2021-09-20T00:00:00.000000000",
                    "2021-09-27T00:00:00.000000000",
                    "2021-10-04T00:00:00.000000000",
                    "2021-10-11T00:00:00.000000000",
                    "2021-10-18T00:00:00.000000000",
                    "2021-10-25T00:00:00.000000000",
                    "2021-11-01T00:00:00.000000000",
                    "2021-11-08T00:00:00.000000000",
                    "2021-11-15T00:00:00.000000000",
                    "2021-11-22T00:00:00.000000000",
                    "2021-11-29T00:00:00.000000000",
                    "2021-12-06T00:00:00.000000000",
                    "2021-12-13T00:00:00.000000000",
                    "2021-12-20T00:00:00.000000000",
                    "2021-12-27T00:00:00.000000000"
                  ],
                  "xaxis": "x2",
                  "y": {
                    "bdata": "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",
                    "dtype": "f8"
                  },
                  "yaxis": "y2"
                },
                {
                  "marker": {
                    "color": "green",
                    "size": 10,
                    "symbol": "triangle-up"
                  },
                  "mode": "markers",
                  "name": "Entry",
                  "type": "scatter",
                  "x": [
                    "2020-01-27T00:00:00"
                  ],
                  "xaxis": "x2",
                  "y": [
                    629.8579711914062
                  ],
                  "yaxis": "y2"
                },
                {
                  "marker": {
                    "color": "red",
                    "size": 10,
                    "symbol": "triangle-down"
                  },
                  "mode": "markers",
                  "name": "Exit",
                  "type": "scatter",
                  "x": [
                    "2020-07-20T00:00:00"
                  ],
                  "xaxis": "x2",
                  "y": [
                    990.4478759765625
                  ],
                  "yaxis": "y2"
                }
              ],
              "layout": {
                "annotations": [
                  {
                    "font": {
                      "size": 16
                    },
                    "showarrow": false,
                    "text": "Equity Curve",
                    "x": 0.5,
                    "xanchor": "center",
                    "xref": "paper",
                    "y": 1,
                    "yanchor": "bottom",
                    "yref": "paper"
                  },
                  {
                    "font": {
                      "size": 16
                    },
                    "showarrow": false,
                    "text": "Price Action with Entry and Exit Points",
                    "x": 0.5,
                    "xanchor": "center",
                    "xref": "paper",
                    "y": 0.45,
                    "yanchor": "bottom",
                    "yref": "paper"
                  }
                ],
                "height": 800,
                "showlegend": true,
                "template": {
                  "data": {
                    "bar": [
                      {
                        "error_x": {
                          "color": "#2a3f5f"
                        },
                        "error_y": {
                          "color": "#2a3f5f"
                        },
                        "marker": {
                          "line": {
                            "color": "white",
                            "width": 0.5
                          },
                          "pattern": {
                            "fillmode": "overlay",
                            "size": 10,
                            "solidity": 0.2
                          }
                        },
                        "type": "bar"
                      }
                    ],
                    "barpolar": [
                      {
                        "marker": {
                          "line": {
                            "color": "white",
                            "width": 0.5
                          },
                          "pattern": {
                            "fillmode": "overlay",
                            "size": 10,
                            "solidity": 0.2
                          }
                        },
                        "type": "barpolar"
                      }
                    ],
                    "carpet": [
                      {
                        "aaxis": {
                          "endlinecolor": "#2a3f5f",
                          "gridcolor": "#C8D4E3",
                          "linecolor": "#C8D4E3",
                          "minorgridcolor": "#C8D4E3",
                          "startlinecolor": "#2a3f5f"
                        },
                        "baxis": {
                          "endlinecolor": "#2a3f5f",
                          "gridcolor": "#C8D4E3",
                          "linecolor": "#C8D4E3",
                          "minorgridcolor": "#C8D4E3",
                          "startlinecolor": "#2a3f5f"
                        },
                        "type": "carpet"
                      }
                    ],
                    "choropleth": [
                      {
                        "colorbar": {
                          "outlinewidth": 0,
                          "ticks": ""
                        },
                        "type": "choropleth"
                      }
                    ],
                    "contour": [
                      {
                        "colorbar": {
                          "outlinewidth": 0,
                          "ticks": ""
                        },
                        "colorscale": [
                          [
                            0,
                            "#0d0887"
                          ],
                          [
                            0.1111111111111111,
                            "#46039f"
                          ],
                          [
                            0.2222222222222222,
                            "#7201a8"
                          ],
                          [
                            0.3333333333333333,
                            "#9c179e"
                          ],
                          [
                            0.4444444444444444,
                            "#bd3786"
                          ],
                          [
                            0.5555555555555556,
                            "#d8576b"
                          ],
                          [
                            0.6666666666666666,
                            "#ed7953"
                          ],
                          [
                            0.7777777777777778,
                            "#fb9f3a"
                          ],
                          [
                            0.8888888888888888,
                            "#fdca26"
                          ],
                          [
                            1,
                            "#f0f921"
                          ]
                        ],
                        "type": "contour"
                      }
                    ],
                    "contourcarpet": [
                      {
                        "colorbar": {
                          "outlinewidth": 0,
                          "ticks": ""
                        },
                        "type": "contourcarpet"
                      }
                    ],
                    "heatmap": [
                      {
                        "colorbar": {
                          "outlinewidth": 0,
                          "ticks": ""
                        },
                        "colorscale": [
                          [
                            0,
                            "#0d0887"
                          ],
                          [
                            0.1111111111111111,
                            "#46039f"
                          ],
                          [
                            0.2222222222222222,
                            "#7201a8"
                          ],
                          [
                            0.3333333333333333,
                            "#9c179e"
                          ],
                          [
                            0.4444444444444444,
                            "#bd3786"
                          ],
                          [
                            0.5555555555555556,
                            "#d8576b"
                          ],
                          [
                            0.6666666666666666,
                            "#ed7953"
                          ],
                          [
                            0.7777777777777778,
                            "#fb9f3a"
                          ],
                          [
                            0.8888888888888888,
                            "#fdca26"
                          ],
                          [
                            1,
                            "#f0f921"
                          ]
                        ],
                        "type": "heatmap"
                      }
                    ],
                    "histogram": [
                      {
                        "marker": {
                          "pattern": {
                            "fillmode": "overlay",
                            "size": 10,
                            "solidity": 0.2
                          }
                        },
                        "type": "histogram"
                      }
                    ],
                    "histogram2d": [
                      {
                        "colorbar": {
                          "outlinewidth": 0,
                          "ticks": ""
                        },
                        "colorscale": [
                          [
                            0,
                            "#0d0887"
                          ],
                          [
                            0.1111111111111111,
                            "#46039f"
                          ],
                          [
                            0.2222222222222222,
                            "#7201a8"
                          ],
                          [
                            0.3333333333333333,
                            "#9c179e"
                          ],
                          [
                            0.4444444444444444,
                            "#bd3786"
                          ],
                          [
                            0.5555555555555556,
                            "#d8576b"
                          ],
                          [
                            0.6666666666666666,
                            "#ed7953"
                          ],
                          [
                            0.7777777777777778,
                            "#fb9f3a"
                          ],
                          [
                            0.8888888888888888,
                            "#fdca26"
                          ],
                          [
                            1,
                            "#f0f921"
                          ]
                        ],
                        "type": "histogram2d"
                      }
                    ],
                    "histogram2dcontour": [
                      {
                        "colorbar": {
                          "outlinewidth": 0,
                          "ticks": ""
                        },
                        "colorscale": [
                          [
                            0,
                            "#0d0887"
                          ],
                          [
                            0.1111111111111111,
                            "#46039f"
                          ],
                          [
                            0.2222222222222222,
                            "#7201a8"
                          ],
                          [
                            0.3333333333333333,
                            "#9c179e"
                          ],
                          [
                            0.4444444444444444,
                            "#bd3786"
                          ],
                          [
                            0.5555555555555556,
                            "#d8576b"
                          ],
                          [
                            0.6666666666666666,
                            "#ed7953"
                          ],
                          [
                            0.7777777777777778,
                            "#fb9f3a"
                          ],
                          [
                            0.8888888888888888,
                            "#fdca26"
                          ],
                          [
                            1,
                            "#f0f921"
                          ]
                        ],
                        "type": "histogram2dcontour"
                      }
                    ],
                    "mesh3d": [
                      {
                        "colorbar": {
                          "outlinewidth": 0,
                          "ticks": ""
                        },
                        "type": "mesh3d"
                      }
                    ],
                    "parcoords": [
                      {
                        "line": {
                          "colorbar": {
                            "outlinewidth": 0,
                            "ticks": ""
                          }
                        },
                        "type": "parcoords"
                      }
                    ],
                    "pie": [
                      {
                        "automargin": true,
                        "type": "pie"
                      }
                    ],
                    "scatter": [
                      {
                        "fillpattern": {
                          "fillmode": "overlay",
                          "size": 10,
                          "solidity": 0.2
                        },
                        "type": "scatter"
                      }
                    ],
                    "scatter3d": [
                      {
                        "line": {
                          "colorbar": {
                            "outlinewidth": 0,
                            "ticks": ""
                          }
                        },
                        "marker": {
                          "colorbar": {
                            "outlinewidth": 0,
                            "ticks": ""
                          }
                        },
                        "type": "scatter3d"
                      }
                    ],
                    "scattercarpet": [
                      {
                        "marker": {
                          "colorbar": {
                            "outlinewidth": 0,
                            "ticks": ""
                          }
                        },
                        "type": "scattercarpet"
                      }
                    ],
                    "scattergeo": [
                      {
                        "marker": {
                          "colorbar": {
                            "outlinewidth": 0,
                            "ticks": ""
                          }
                        },
                        "type": "scattergeo"
                      }
                    ],
                    "scattergl": [
                      {
                        "marker": {
                          "colorbar": {
                            "outlinewidth": 0,
                            "ticks": ""
                          }
                        },
                        "type": "scattergl"
                      }
                    ],
                    "scattermap": [
                      {
                        "marker": {
                          "colorbar": {
                            "outlinewidth": 0,
                            "ticks": ""
                          }
                        },
                        "type": "scattermap"
                      }
                    ],
                    "scattermapbox": [
                      {
                        "marker": {
                          "colorbar": {
                            "outlinewidth": 0,
                            "ticks": ""
                          }
                        },
                        "type": "scattermapbox"
                      }
                    ],
                    "scatterpolar": [
                      {
                        "marker": {
                          "colorbar": {
                            "outlinewidth": 0,
                            "ticks": ""
                          }
                        },
                        "type": "scatterpolar"
                      }
                    ],
                    "scatterpolargl": [
                      {
                        "marker": {
                          "colorbar": {
                            "outlinewidth": 0,
                            "ticks": ""
                          }
                        },
                        "type": "scatterpolargl"
                      }
                    ],
                    "scatterternary": [
                      {
                        "marker": {
                          "colorbar": {
                            "outlinewidth": 0,
                            "ticks": ""
                          }
                        },
                        "type": "scatterternary"
                      }
                    ],
                    "surface": [
                      {
                        "colorbar": {
                          "outlinewidth": 0,
                          "ticks": ""
                        },
                        "colorscale": [
                          [
                            0,
                            "#0d0887"
                          ],
                          [
                            0.1111111111111111,
                            "#46039f"
                          ],
                          [
                            0.2222222222222222,
                            "#7201a8"
                          ],
                          [
                            0.3333333333333333,
                            "#9c179e"
                          ],
                          [
                            0.4444444444444444,
                            "#bd3786"
                          ],
                          [
                            0.5555555555555556,
                            "#d8576b"
                          ],
                          [
                            0.6666666666666666,
                            "#ed7953"
                          ],
                          [
                            0.7777777777777778,
                            "#fb9f3a"
                          ],
                          [
                            0.8888888888888888,
                            "#fdca26"
                          ],
                          [
                            1,
                            "#f0f921"
                          ]
                        ],
                        "type": "surface"
                      }
                    ],
                    "table": [
                      {
                        "cells": {
                          "fill": {
                            "color": "#EBF0F8"
                          },
                          "line": {
                            "color": "white"
                          }
                        },
                        "header": {
                          "fill": {
                            "color": "#C8D4E3"
                          },
                          "line": {
                            "color": "white"
                          }
                        },
                        "type": "table"
                      }
                    ]
                  },
                  "layout": {
                    "annotationdefaults": {
                      "arrowcolor": "#2a3f5f",
                      "arrowhead": 0,
                      "arrowwidth": 1
                    },
                    "autotypenumbers": "strict",
                    "coloraxis": {
                      "colorbar": {
                        "outlinewidth": 0,
                        "ticks": ""
                      }
                    },
                    "colorscale": {
                      "diverging": [
                        [
                          0,
                          "#8e0152"
                        ],
                        [
                          0.1,
                          "#c51b7d"
                        ],
                        [
                          0.2,
                          "#de77ae"
                        ],
                        [
                          0.3,
                          "#f1b6da"
                        ],
                        [
                          0.4,
                          "#fde0ef"
                        ],
                        [
                          0.5,
                          "#f7f7f7"
                        ],
                        [
                          0.6,
                          "#e6f5d0"
                        ],
                        [
                          0.7,
                          "#b8e186"
                        ],
                        [
                          0.8,
                          "#7fbc41"
                        ],
                        [
                          0.9,
                          "#4d9221"
                        ],
                        [
                          1,
                          "#276419"
                        ]
                      ],
                      "sequential": [
                        [
                          0,
                          "#0d0887"
                        ],
                        [
                          0.1111111111111111,
                          "#46039f"
                        ],
                        [
                          0.2222222222222222,
                          "#7201a8"
                        ],
                        [
                          0.3333333333333333,
                          "#9c179e"
                        ],
                        [
                          0.4444444444444444,
                          "#bd3786"
                        ],
                        [
                          0.5555555555555556,
                          "#d8576b"
                        ],
                        [
                          0.6666666666666666,
                          "#ed7953"
                        ],
                        [
                          0.7777777777777778,
                          "#fb9f3a"
                        ],
                        [
                          0.8888888888888888,
                          "#fdca26"
                        ],
                        [
                          1,
                          "#f0f921"
                        ]
                      ],
                      "sequentialminus": [
                        [
                          0,
                          "#0d0887"
                        ],
                        [
                          0.1111111111111111,
                          "#46039f"
                        ],
                        [
                          0.2222222222222222,
                          "#7201a8"
                        ],
                        [
                          0.3333333333333333,
                          "#9c179e"
                        ],
                        [
                          0.4444444444444444,
                          "#bd3786"
                        ],
                        [
                          0.5555555555555556,
                          "#d8576b"
                        ],
                        [
                          0.6666666666666666,
                          "#ed7953"
                        ],
                        [
                          0.7777777777777778,
                          "#fb9f3a"
                        ],
                        [
                          0.8888888888888888,
                          "#fdca26"
                        ],
                        [
                          1,
                          "#f0f921"
                        ]
                      ]
                    },
                    "colorway": [
                      "#636efa",
                      "#EF553B",
                      "#00cc96",
                      "#ab63fa",
                      "#FFA15A",
                      "#19d3f3",
                      "#FF6692",
                      "#B6E880",
                      "#FF97FF",
                      "#FECB52"
                    ],
                    "font": {
                      "color": "#2a3f5f"
                    },
                    "geo": {
                      "bgcolor": "white",
                      "lakecolor": "white",
                      "landcolor": "white",
                      "showlakes": true,
                      "showland": true,
                      "subunitcolor": "#C8D4E3"
                    },
                    "hoverlabel": {
                      "align": "left"
                    },
                    "hovermode": "closest",
                    "mapbox": {
                      "style": "light"
                    },
                    "paper_bgcolor": "white",
                    "plot_bgcolor": "white",
                    "polar": {
                      "angularaxis": {
                        "gridcolor": "#EBF0F8",
                        "linecolor": "#EBF0F8",
                        "ticks": ""
                      },
                      "bgcolor": "white",
                      "radialaxis": {
                        "gridcolor": "#EBF0F8",
                        "linecolor": "#EBF0F8",
                        "ticks": ""
                      }
                    },
                    "scene": {
                      "xaxis": {
                        "backgroundcolor": "white",
                        "gridcolor": "#DFE8F3",
                        "gridwidth": 2,
                        "linecolor": "#EBF0F8",
                        "showbackground": true,
                        "ticks": "",
                        "zerolinecolor": "#EBF0F8"
                      },
                      "yaxis": {
                        "backgroundcolor": "white",
                        "gridcolor": "#DFE8F3",
                        "gridwidth": 2,
                        "linecolor": "#EBF0F8",
                        "showbackground": true,
                        "ticks": "",
                        "zerolinecolor": "#EBF0F8"
                      },
                      "zaxis": {
                        "backgroundcolor": "white",
                        "gridcolor": "#DFE8F3",
                        "gridwidth": 2,
                        "linecolor": "#EBF0F8",
                        "showbackground": true,
                        "ticks": "",
                        "zerolinecolor": "#EBF0F8"
                      }
                    },
                    "shapedefaults": {
                      "line": {
                        "color": "#2a3f5f"
                      }
                    },
                    "ternary": {
                      "aaxis": {
                        "gridcolor": "#DFE8F3",
                        "linecolor": "#A2B1C6",
                        "ticks": ""
                      },
                      "baxis": {
                        "gridcolor": "#DFE8F3",
                        "linecolor": "#A2B1C6",
                        "ticks": ""
                      },
                      "bgcolor": "white",
                      "caxis": {
                        "gridcolor": "#DFE8F3",
                        "linecolor": "#A2B1C6",
                        "ticks": ""
                      }
                    },
                    "title": {
                      "x": 0.05
                    },
                    "xaxis": {
                      "automargin": true,
                      "gridcolor": "#EBF0F8",
                      "linecolor": "#EBF0F8",
                      "ticks": "",
                      "title": {
                        "standoff": 15
                      },
                      "zerolinecolor": "#EBF0F8",
                      "zerolinewidth": 2
                    },
                    "yaxis": {
                      "automargin": true,
                      "gridcolor": "#EBF0F8",
                      "linecolor": "#EBF0F8",
                      "ticks": "",
                      "title": {
                        "standoff": 15
                      },
                      "zerolinecolor": "#EBF0F8",
                      "zerolinewidth": 2
                    }
                  }
                },
                "title": {
                  "text": "Backtest Visualizations"
                },
                "xaxis": {
                  "anchor": "y",
                  "domain": [
                    0,
                    1
                  ],
                  "matches": "x2",
                  "showticklabels": false
                },
                "xaxis2": {
                  "anchor": "y2",
                  "domain": [
                    0,
                    1
                  ],
                  "title": {
                    "text": "Time"
                  }
                },
                "yaxis": {
                  "anchor": "x",
                  "domain": [
                    0.55,
                    1
                  ],
                  "title": {
                    "text": "Capital"
                  }
                },
                "yaxis2": {
                  "anchor": "x2",
                  "domain": [
                    0,
                    0.45
                  ],
                  "title": {
                    "text": "Price"
                  }
                }
              }
            }
          },
          "metadata": {},
          "output_type": "display_data"
        },
        {
          "data": {
            "text/html": [
              "<div>\n",
              "<style scoped>\n",
              "    .dataframe tbody tr th:only-of-type {\n",
              "        vertical-align: middle;\n",
              "    }\n",
              "\n",
              "    .dataframe tbody tr th {\n",
              "        vertical-align: top;\n",
              "    }\n",
              "\n",
              "    .dataframe thead th {\n",
              "        text-align: right;\n",
              "    }\n",
              "</style>\n",
              "<table border=\"1\" class=\"dataframe\">\n",
              "  <thead>\n",
              "    <tr style=\"text-align: right;\">\n",
              "      <th></th>\n",
              "      <th>Entry Candle</th>\n",
              "      <th>Exit Candle</th>\n",
              "      <th>PnL</th>\n",
              "      <th>Number of units</th>\n",
              "      <th>Trade type</th>\n",
              "    </tr>\n",
              "  </thead>\n",
              "  <tbody>\n",
              "    <tr>\n",
              "      <th>0</th>\n",
              "      <td>2020-01-27</td>\n",
              "      <td>2020-07-20</td>\n",
              "      <td>-56973.204956</td>\n",
              "      <td>158.0</td>\n",
              "      <td>Short</td>\n",
              "    </tr>\n",
              "  </tbody>\n",
              "</table>\n",
              "</div>"
            ],
            "text/plain": [
              "  Entry Candle Exit Candle           PnL  Number of units Trade type\n",
              "0   2020-01-27  2020-07-20 -56973.204956            158.0      Short"
            ]
          },
          "execution_count": 15,
          "metadata": {},
          "output_type": "execute_result"
        }
      ],
      "source": [
        "dataframe = stock_data[['timestamp', 'Open','High','Low','Close','Volume','Signals']]\n",
        "stock_data = remove_redundant_signals(dataframe)\n",
        "perform_backtest(dataframe)"
      ]
    },
    {
      "cell_type": "markdown",
      "metadata": {
        "id": "LrVM--wcsV8Z"
      },
      "source": [
        "\n",
        "\n",
        "---\n",
        "\n",
        "# **4. Incorporating a Complementary Indicator**"
      ]
    },
    {
      "cell_type": "markdown",
      "metadata": {
        "id": "7Ym1dblisev5"
      },
      "source": [
        "We can introduce the ATR indicator to our existing strategy in order to introduce a new analytical angle, namely that of accounting for marketing volatility and momentum. This can help us avoid entering trades in low volatility periods and adapt our position sizing and stop losses. It complements MFI and supertrend ideally:\n",
        "\n",
        "\n",
        "\n",
        "1.   *Supertrend: even though this indicator is structurally ATR-based, ATR isn't actually utilised for gauging entry or exit points. Hence, we are expanding upon its utility.*\n",
        "2.   *While MFI overlaps with the overbought-and-oversold nature of Bollinger Bands, it does not account for volatility which we can successfully integrate with ATR*\n",
        "\n"
      ]
    },
    {
      "cell_type": "markdown",
      "metadata": {
        "id": "U8dGXe6MuWaP"
      },
      "source": [
        "### **STRATEGY Y: *STRATEGY X + ATR FILTER***"
      ]
    },
    {
      "cell_type": "markdown",
      "metadata": {
        "id": "5Uay_kU_ukWX"
      },
      "source": [
        "**Additional Logic:** Enter trades only when ATR is above a certain threshold, say 65 percentile within the last 10-intervals' worth of ATR values"
      ]
    },
    {
      "cell_type": "code",
      "execution_count": 16,
      "metadata": {
        "colab": {
          "base_uri": "https://localhost:8080/",
          "height": 1000
        },
        "id": "bvhPA0QezJkV",
        "outputId": "cba971c1-8412-44f7-fda6-d00f10dfcc2d"
      },
      "outputs": [
        {
          "name": "stdout",
          "output_type": "stream",
          "text": [
            "BACKTEST RESULTS:\n",
            "Backtest Period: 4 years and 12 months\n",
            "Benchmark Returns: 346.59 %\n",
            "Initial Capital: 100000\n",
            "Final Capital: 43026.80\n",
            "Profit percentage: -56.97 %\n",
            "Leverage applied: 1\n",
            "Maximum Portfolio balance: 100000.00\n",
            "Minimum Portfolio balance: 43026.80\n",
            "Number of trades: 1\n",
            "Winning Trades: 0\n",
            "Losing Trades: 1\n",
            "Win Rate: 0.00 %\n",
            "Average Profit: 0.00\n",
            "Average Loss: -56973.20\n",
            "No of Long Trades: 0\n",
            "No of Short Trades: 1\n",
            "Average drawdown: -28.49 %\n",
            "Maximum drawdown: -56.97 %\n",
            "Sharpe Ratio: nan\n",
            "Sortino Ratio: nan\n",
            "Maximum Holding Time: 175 days, 00:00:00\n",
            "Average Holding Time: 175 days, 00:00:00\n"
          ]
        },
        {
          "data": {
            "application/vnd.plotly.v1+json": {
              "config": {
                "plotlyServerURL": "https://plot.ly"
              },
              "data": [
                {
                  "line": {
                    "color": "green"
                  },
                  "mode": "lines",
                  "name": "Capital",
                  "type": "scatter",
                  "xaxis": "x",
                  "y": [
                    100000,
                    43026.79504394531
                  ],
                  "yaxis": "y"
                },
                {
                  "line": {
                    "color": "blue"
                  },
                  "mode": "lines",
                  "name": "Close Price",
                  "type": "scatter",
                  "x": [
                    "2017-01-02T00:00:00.000000000",
                    "2017-01-09T00:00:00.000000000",
                    "2017-01-16T00:00:00.000000000",
                    "2017-01-23T00:00:00.000000000",
                    "2017-01-30T00:00:00.000000000",
                    "2017-02-06T00:00:00.000000000",
                    "2017-02-13T00:00:00.000000000",
                    "2017-02-20T00:00:00.000000000",
                    "2017-02-27T00:00:00.000000000",
                    "2017-03-06T00:00:00.000000000",
                    "2017-03-13T00:00:00.000000000",
                    "2017-03-20T00:00:00.000000000",
                    "2017-03-27T00:00:00.000000000",
                    "2017-04-03T00:00:00.000000000",
                    "2017-04-10T00:00:00.000000000",
                    "2017-04-17T00:00:00.000000000",
                    "2017-04-24T00:00:00.000000000",
                    "2017-05-01T00:00:00.000000000",
                    "2017-05-08T00:00:00.000000000",
                    "2017-05-15T00:00:00.000000000",
                    "2017-05-22T00:00:00.000000000",
                    "2017-05-29T00:00:00.000000000",
                    "2017-06-05T00:00:00.000000000",
                    "2017-06-12T00:00:00.000000000",
                    "2017-06-19T00:00:00.000000000",
                    "2017-06-26T00:00:00.000000000",
                    "2017-07-03T00:00:00.000000000",
                    "2017-07-10T00:00:00.000000000",
                    "2017-07-17T00:00:00.000000000",
                    "2017-07-24T00:00:00.000000000",
                    "2017-07-31T00:00:00.000000000",
                    "2017-08-07T00:00:00.000000000",
                    "2017-08-14T00:00:00.000000000",
                    "2017-08-21T00:00:00.000000000",
                    "2017-08-28T00:00:00.000000000",
                    "2017-09-04T00:00:00.000000000",
                    "2017-09-11T00:00:00.000000000",
                    "2017-09-18T00:00:00.000000000",
                    "2017-09-25T00:00:00.000000000",
                    "2017-10-02T00:00:00.000000000",
                    "2017-10-09T00:00:00.000000000",
                    "2017-10-16T00:00:00.000000000",
                    "2017-10-23T00:00:00.000000000",
                    "2017-10-30T00:00:00.000000000",
                    "2017-11-06T00:00:00.000000000",
                    "2017-11-13T00:00:00.000000000",
                    "2017-11-20T00:00:00.000000000",
                    "2017-11-27T00:00:00.000000000",
                    "2017-12-04T00:00:00.000000000",
                    "2017-12-11T00:00:00.000000000",
                    "2017-12-18T00:00:00.000000000",
                    "2017-12-25T00:00:00.000000000",
                    "2018-01-01T00:00:00.000000000",
                    "2018-01-08T00:00:00.000000000",
                    "2018-01-15T00:00:00.000000000",
                    "2018-01-22T00:00:00.000000000",
                    "2018-01-29T00:00:00.000000000",
                    "2018-02-05T00:00:00.000000000",
                    "2018-02-12T00:00:00.000000000",
                    "2018-02-19T00:00:00.000000000",
                    "2018-02-26T00:00:00.000000000",
                    "2018-03-05T00:00:00.000000000",
                    "2018-03-12T00:00:00.000000000",
                    "2018-03-19T00:00:00.000000000",
                    "2018-03-26T00:00:00.000000000",
                    "2018-04-02T00:00:00.000000000",
                    "2018-04-09T00:00:00.000000000",
                    "2018-04-16T00:00:00.000000000",
                    "2018-04-23T00:00:00.000000000",
                    "2018-04-30T00:00:00.000000000",
                    "2018-05-07T00:00:00.000000000",
                    "2018-05-14T00:00:00.000000000",
                    "2018-05-21T00:00:00.000000000",
                    "2018-05-28T00:00:00.000000000",
                    "2018-06-04T00:00:00.000000000",
                    "2018-06-11T00:00:00.000000000",
                    "2018-06-18T00:00:00.000000000",
                    "2018-06-25T00:00:00.000000000",
                    "2018-07-02T00:00:00.000000000",
                    "2018-07-09T00:00:00.000000000",
                    "2018-07-16T00:00:00.000000000",
                    "2018-07-23T00:00:00.000000000",
                    "2018-07-30T00:00:00.000000000",
                    "2018-08-06T00:00:00.000000000",
                    "2018-08-13T00:00:00.000000000",
                    "2018-08-20T00:00:00.000000000",
                    "2018-08-27T00:00:00.000000000",
                    "2018-09-03T00:00:00.000000000",
                    "2018-09-10T00:00:00.000000000",
                    "2018-09-17T00:00:00.000000000",
                    "2018-09-24T00:00:00.000000000",
                    "2018-10-01T00:00:00.000000000",
                    "2018-10-08T00:00:00.000000000",
                    "2018-10-15T00:00:00.000000000",
                    "2018-10-22T00:00:00.000000000",
                    "2018-10-29T00:00:00.000000000",
                    "2018-11-05T00:00:00.000000000",
                    "2018-11-12T00:00:00.000000000",
                    "2018-11-19T00:00:00.000000000",
                    "2018-11-26T00:00:00.000000000",
                    "2018-12-03T00:00:00.000000000",
                    "2018-12-10T00:00:00.000000000",
                    "2018-12-17T00:00:00.000000000",
                    "2018-12-24T00:00:00.000000000",
                    "2018-12-31T00:00:00.000000000",
                    "2019-01-07T00:00:00.000000000",
                    "2019-01-14T00:00:00.000000000",
                    "2019-01-21T00:00:00.000000000",
                    "2019-01-28T00:00:00.000000000",
                    "2019-02-04T00:00:00.000000000",
                    "2019-02-11T00:00:00.000000000",
                    "2019-02-18T00:00:00.000000000",
                    "2019-02-25T00:00:00.000000000",
                    "2019-03-04T00:00:00.000000000",
                    "2019-03-11T00:00:00.000000000",
                    "2019-03-18T00:00:00.000000000",
                    "2019-03-25T00:00:00.000000000",
                    "2019-04-01T00:00:00.000000000",
                    "2019-04-08T00:00:00.000000000",
                    "2019-04-15T00:00:00.000000000",
                    "2019-04-22T00:00:00.000000000",
                    "2019-04-29T00:00:00.000000000",
                    "2019-05-06T00:00:00.000000000",
                    "2019-05-13T00:00:00.000000000",
                    "2019-05-20T00:00:00.000000000",
                    "2019-05-27T00:00:00.000000000",
                    "2019-06-03T00:00:00.000000000",
                    "2019-06-10T00:00:00.000000000",
                    "2019-06-17T00:00:00.000000000",
                    "2019-06-24T00:00:00.000000000",
                    "2019-07-01T00:00:00.000000000",
                    "2019-07-08T00:00:00.000000000",
                    "2019-07-15T00:00:00.000000000",
                    "2019-07-22T00:00:00.000000000",
                    "2019-07-29T00:00:00.000000000",
                    "2019-08-05T00:00:00.000000000",
                    "2019-08-12T00:00:00.000000000",
                    "2019-08-19T00:00:00.000000000",
                    "2019-08-26T00:00:00.000000000",
                    "2019-09-02T00:00:00.000000000",
                    "2019-09-09T00:00:00.000000000",
                    "2019-09-16T00:00:00.000000000",
                    "2019-09-23T00:00:00.000000000",
                    "2019-09-30T00:00:00.000000000",
                    "2019-10-07T00:00:00.000000000",
                    "2019-10-14T00:00:00.000000000",
                    "2019-10-21T00:00:00.000000000",
                    "2019-10-28T00:00:00.000000000",
                    "2019-11-04T00:00:00.000000000",
                    "2019-11-11T00:00:00.000000000",
                    "2019-11-18T00:00:00.000000000",
                    "2019-11-25T00:00:00.000000000",
                    "2019-12-02T00:00:00.000000000",
                    "2019-12-09T00:00:00.000000000",
                    "2019-12-16T00:00:00.000000000",
                    "2019-12-23T00:00:00.000000000",
                    "2019-12-30T00:00:00.000000000",
                    "2020-01-06T00:00:00.000000000",
                    "2020-01-13T00:00:00.000000000",
                    "2020-01-20T00:00:00.000000000",
                    "2020-01-27T00:00:00.000000000",
                    "2020-02-03T00:00:00.000000000",
                    "2020-02-10T00:00:00.000000000",
                    "2020-02-17T00:00:00.000000000",
                    "2020-02-24T00:00:00.000000000",
                    "2020-03-02T00:00:00.000000000",
                    "2020-03-09T00:00:00.000000000",
                    "2020-03-16T00:00:00.000000000",
                    "2020-03-23T00:00:00.000000000",
                    "2020-03-30T00:00:00.000000000",
                    "2020-04-06T00:00:00.000000000",
                    "2020-04-13T00:00:00.000000000",
                    "2020-04-20T00:00:00.000000000",
                    "2020-04-27T00:00:00.000000000",
                    "2020-05-04T00:00:00.000000000",
                    "2020-05-11T00:00:00.000000000",
                    "2020-05-18T00:00:00.000000000",
                    "2020-05-25T00:00:00.000000000",
                    "2020-06-01T00:00:00.000000000",
                    "2020-06-08T00:00:00.000000000",
                    "2020-06-15T00:00:00.000000000",
                    "2020-06-22T00:00:00.000000000",
                    "2020-06-29T00:00:00.000000000",
                    "2020-07-06T00:00:00.000000000",
                    "2020-07-13T00:00:00.000000000",
                    "2020-07-20T00:00:00.000000000",
                    "2020-07-27T00:00:00.000000000",
                    "2020-08-03T00:00:00.000000000",
                    "2020-08-10T00:00:00.000000000",
                    "2020-08-17T00:00:00.000000000",
                    "2020-08-24T00:00:00.000000000",
                    "2020-08-31T00:00:00.000000000",
                    "2020-09-07T00:00:00.000000000",
                    "2020-09-14T00:00:00.000000000",
                    "2020-09-21T00:00:00.000000000",
                    "2020-09-28T00:00:00.000000000",
                    "2020-10-05T00:00:00.000000000",
                    "2020-10-12T00:00:00.000000000",
                    "2020-10-19T00:00:00.000000000",
                    "2020-10-26T00:00:00.000000000",
                    "2020-11-02T00:00:00.000000000",
                    "2020-11-09T00:00:00.000000000",
                    "2020-11-16T00:00:00.000000000",
                    "2020-11-23T00:00:00.000000000",
                    "2020-11-30T00:00:00.000000000",
                    "2020-12-07T00:00:00.000000000",
                    "2020-12-14T00:00:00.000000000",
                    "2020-12-21T00:00:00.000000000",
                    "2020-12-28T00:00:00.000000000",
                    "2021-01-04T00:00:00.000000000",
                    "2021-01-11T00:00:00.000000000",
                    "2021-01-18T00:00:00.000000000",
                    "2021-01-25T00:00:00.000000000",
                    "2021-02-01T00:00:00.000000000",
                    "2021-02-08T00:00:00.000000000",
                    "2021-02-15T00:00:00.000000000",
                    "2021-02-22T00:00:00.000000000",
                    "2021-03-01T00:00:00.000000000",
                    "2021-03-08T00:00:00.000000000",
                    "2021-03-15T00:00:00.000000000",
                    "2021-03-22T00:00:00.000000000",
                    "2021-03-29T00:00:00.000000000",
                    "2021-04-05T00:00:00.000000000",
                    "2021-04-12T00:00:00.000000000",
                    "2021-04-19T00:00:00.000000000",
                    "2021-04-26T00:00:00.000000000",
                    "2021-05-03T00:00:00.000000000",
                    "2021-05-10T00:00:00.000000000",
                    "2021-05-17T00:00:00.000000000",
                    "2021-05-24T00:00:00.000000000",
                    "2021-05-31T00:00:00.000000000",
                    "2021-06-07T00:00:00.000000000",
                    "2021-06-14T00:00:00.000000000",
                    "2021-06-21T00:00:00.000000000",
                    "2021-06-28T00:00:00.000000000",
                    "2021-07-05T00:00:00.000000000",
                    "2021-07-12T00:00:00.000000000",
                    "2021-07-19T00:00:00.000000000",
                    "2021-07-26T00:00:00.000000000",
                    "2021-08-02T00:00:00.000000000",
                    "2021-08-09T00:00:00.000000000",
                    "2021-08-16T00:00:00.000000000",
                    "2021-08-23T00:00:00.000000000",
                    "2021-08-30T00:00:00.000000000",
                    "2021-09-06T00:00:00.000000000",
                    "2021-09-13T00:00:00.000000000",
                    "2021-09-20T00:00:00.000000000",
                    "2021-09-27T00:00:00.000000000",
                    "2021-10-04T00:00:00.000000000",
                    "2021-10-11T00:00:00.000000000",
                    "2021-10-18T00:00:00.000000000",
                    "2021-10-25T00:00:00.000000000",
                    "2021-11-01T00:00:00.000000000",
                    "2021-11-08T00:00:00.000000000",
                    "2021-11-15T00:00:00.000000000",
                    "2021-11-22T00:00:00.000000000",
                    "2021-11-29T00:00:00.000000000",
                    "2021-12-06T00:00:00.000000000",
                    "2021-12-13T00:00:00.000000000",
                    "2021-12-20T00:00:00.000000000",
                    "2021-12-27T00:00:00.000000000"
                  ],
                  "xaxis": "x2",
                  "y": {
                    "bdata": "AAAAQAeXbkAAAAAAlQdvQAAAAED4MG1AAAAAwN4rbUAAAABAKGptQAAAAOCoUG1AAAAA4AibbkAAAAAgLdRwQAAAAEBH6HFAAAAAoGs8ckAAAACAz4FyQAAAAED/TnJAAAAAoGPLckAAAABAjQN0QAAAAKBLa3NAAAAAIJ70c0AAAAAAB9pzQAAAAEAp5nJAAAAAgAY3c0AAAAAA7MNyQAAAAGAgB3NAAAAAoGnZckAAAABATAFzQAAAACC3wnNAAAAAYBhudEAAAABAqaJzQAAAAKCGN3VAAAAAYLLSdUAAAAAgYI12QAAAAADMr3ZAAAAA4LEUd0AAAACAOgB2QAAAAEBoanZAAAAAgKJPdkAAAABgzeh2QAAAAEAhP3dAAAAA4Ib0d0AAAADAxUJ3QAAAAKDeOHZAAAAAQOzRd0AAAADA8/B4QAAAAOCi5HlAAAAA4Ph1ekAAAACghuZ6QAAAAKDcJnlAAAAA4DTzeUAAAABgxxB7QAAAAOAX5nlAAAAAAIA1ekAAAADAZCx6QAAAAAAhMXpAAAAAQN01ekAAAAAg5EV6QAAAAAB7AXtAAAAAIImAekAAAAAAmXx7QAAAAEA0vHlAAAAAINqMeUAAAACArzd6QAAAAMAGlnpAAAAAABz9ekAAAADA8vt5QAAAACDhnHlAAAAAgBNweUAAAADgex55QAAAAGCm7HlAAAAAoIm3ekAAAABAxGd6QAAAAOAPWnxAAAAAoIole0AAAADgsyZ8QAAAAMAck3pAAAAAAAs0ekAAAACAEnt6QAAAAIABA3xAAAAAoHbcfEAAAABAFNB8QAAAAGBQrHtAAAAAwHfRe0AAAACgD0x/QAAAAAAeD4BAAAAA4HwTgEAAAADADL+AQAAAAOBOIoFAAAAAYKsggUAAAADgTS2CQAAAAGC4qoFAAAAAoE8xgkAAAADgm9SBQAAAAODAUoFAAAAA4BfmgUAAAACg49h9QAAAAKB3B4BAAAAAAP1Wf0AAAAAAHbx9QAAAAACqln5AAAAAAM0df0AAAABgkAqAQAAAAMBHYn9AAAAAgM+cgEAAAAAg4CGAQAAAACBlpn9AAAAAoPlOf0AAAABA0wOAQAAAAOCuQ39AAAAA4E8/f0AAAAAgAdqAQAAAAKCQuoFAAAAA4PPIgUAAAABgCC6CQAAAAEDrtIFAAAAAYNiIgUAAAACg5XGBQAAAACBsB4JAAAAAAB/OgkAAAADgVReDQAAAAECmZYNAAAAAgJdDg0AAAADAQByDQAAAAKBVuINAAAAAAEnRg0AAAABgvwuEQAAAAABTzYFAAAAA4IMIgkAAAACgfAWDQAAAACAV7YJAAAAAwIi1gkAAAADAL7+CQAAAAMCWNIJAAAAAYG3UgUAAAABAw/mBQAAAAGA7OIJAAAAAIH7FgUAAAADARkWBQAAAACAB2oBAAAAAYPWIgEAAAAAgIC+CQAAAAEBLJ4JAAAAAgNrDgUAAAABg92SBQAAAACBCcIFAAAAA4PrYgUAAAACgOaCCQAAAAMDDnIJAAAAAQNs+g0AAAAAAESeEQAAAAIBEaIRAAAAAIMW6hEAAAADgPpGEQAAAAGCV7YRAAAAAgCMBhkAAAACgExKGQAAAAGC8H4ZAAAAA4LmFhkAAAAAgvMCGQAAAAMAF8oVAAAAA4BTfhUAAAADgUwWGQAAAAEDOfoZAAAAAIEKmhUAAAAAg3a6DQAAAAAAVZoRAAAAAYJgqhUAAAADAlSSFQAAAAECe54JAAAAAoKAVgkAAAADgIHR/QAAAAEDI93xAAAAAwOlSfkAAAACgPal+QAAAAICtW4FAAAAAAG5qgUAAAAAgbymEQAAAAMDq24RAAAAAoN44hkAAAAAARPaEQAAAAEDcj4RAAAAAoKYIhUAAAACA97eGQAAAAAAT0oZAAAAAYGBFiUAAAADgGwSJQAAAAOArrolAAAAAIMIVi0AAAACA/pGLQAAAAECV845AAAAAALvPjUAAAADAsPSOQAAAAKAlfI5AAAAAADAGjkAAAADA0oSOQAAAAEA09Y1AAAAAwEG6kEAAAAAgUqCQQAAAAGCswI9AAAAAYM8LkEAAAACA8hqQQAAAAAANYY9AAAAAwGB5jkAAAAAgNqGNQAAAAICeQ41AAAAAIH3gjEAAAACg82SLQAAAAKDR1ItAAAAAAGYTjEAAAABAae2MQAAAAMDMuIxAAAAAQGbCjEAAAAAA2amMQAAAAMA344tAAAAAIBDxi0AAAADgHo+NQAAAACB6kIpAAAAAgHu+i0AAAACglXGNQAAAAAB3AI5AAAAAYMUUjkAAAADgwWuPQAAAAEAE1I5AAAAAwL0GjkAAAADAPsSMQAAAAOCqKI1AAAAA4LmVjEAAAACAT92LQAAAAKDbdotAAAAAALHDjEAAAADABNyLQAAAAGCC8ItAAAAAgGnhjEAAAADA/zWOQAAAAMBSl49AAAAAYPLqj0AAAABgjAyQQAAAAGCgWY5AAAAAIHO0jkAAAAAg3t6NQAAAAGD6do5AAAAA4D1ejkAAAABAU1qNQAAAACDFII5AAAAAoLzxjkAAAAAgVvuOQAAAAGDHD5BAAAAAYCs5kUAAAAAAqH2RQAAAACD0PJFAAAAAABDnkUAAAACgvzKSQAAAAEAgQ5NAAAAAwO94k0AAAADALfKSQAAAAIDqSZJAAAAAIOAEkkAAAABg3LKSQAAAAMC11ZFAAAAAgKhlkUAAAADAoF2RQAAAAGA4u5FAAAAAIHjgkEAAAAAAMByRQAAAAICaE5FA",
                    "dtype": "f8"
                  },
                  "yaxis": "y2"
                },
                {
                  "marker": {
                    "color": "green",
                    "size": 10,
                    "symbol": "triangle-up"
                  },
                  "mode": "markers",
                  "name": "Entry",
                  "type": "scatter",
                  "x": [
                    "2020-01-27T00:00:00"
                  ],
                  "xaxis": "x2",
                  "y": [
                    629.8579711914062
                  ],
                  "yaxis": "y2"
                },
                {
                  "marker": {
                    "color": "red",
                    "size": 10,
                    "symbol": "triangle-down"
                  },
                  "mode": "markers",
                  "name": "Exit",
                  "type": "scatter",
                  "x": [
                    "2020-07-20T00:00:00"
                  ],
                  "xaxis": "x2",
                  "y": [
                    990.4478759765625
                  ],
                  "yaxis": "y2"
                }
              ],
              "layout": {
                "annotations": [
                  {
                    "font": {
                      "size": 16
                    },
                    "showarrow": false,
                    "text": "Equity Curve",
                    "x": 0.5,
                    "xanchor": "center",
                    "xref": "paper",
                    "y": 1,
                    "yanchor": "bottom",
                    "yref": "paper"
                  },
                  {
                    "font": {
                      "size": 16
                    },
                    "showarrow": false,
                    "text": "Price Action with Entry and Exit Points",
                    "x": 0.5,
                    "xanchor": "center",
                    "xref": "paper",
                    "y": 0.45,
                    "yanchor": "bottom",
                    "yref": "paper"
                  }
                ],
                "height": 800,
                "showlegend": true,
                "template": {
                  "data": {
                    "bar": [
                      {
                        "error_x": {
                          "color": "#2a3f5f"
                        },
                        "error_y": {
                          "color": "#2a3f5f"
                        },
                        "marker": {
                          "line": {
                            "color": "white",
                            "width": 0.5
                          },
                          "pattern": {
                            "fillmode": "overlay",
                            "size": 10,
                            "solidity": 0.2
                          }
                        },
                        "type": "bar"
                      }
                    ],
                    "barpolar": [
                      {
                        "marker": {
                          "line": {
                            "color": "white",
                            "width": 0.5
                          },
                          "pattern": {
                            "fillmode": "overlay",
                            "size": 10,
                            "solidity": 0.2
                          }
                        },
                        "type": "barpolar"
                      }
                    ],
                    "carpet": [
                      {
                        "aaxis": {
                          "endlinecolor": "#2a3f5f",
                          "gridcolor": "#C8D4E3",
                          "linecolor": "#C8D4E3",
                          "minorgridcolor": "#C8D4E3",
                          "startlinecolor": "#2a3f5f"
                        },
                        "baxis": {
                          "endlinecolor": "#2a3f5f",
                          "gridcolor": "#C8D4E3",
                          "linecolor": "#C8D4E3",
                          "minorgridcolor": "#C8D4E3",
                          "startlinecolor": "#2a3f5f"
                        },
                        "type": "carpet"
                      }
                    ],
                    "choropleth": [
                      {
                        "colorbar": {
                          "outlinewidth": 0,
                          "ticks": ""
                        },
                        "type": "choropleth"
                      }
                    ],
                    "contour": [
                      {
                        "colorbar": {
                          "outlinewidth": 0,
                          "ticks": ""
                        },
                        "colorscale": [
                          [
                            0,
                            "#0d0887"
                          ],
                          [
                            0.1111111111111111,
                            "#46039f"
                          ],
                          [
                            0.2222222222222222,
                            "#7201a8"
                          ],
                          [
                            0.3333333333333333,
                            "#9c179e"
                          ],
                          [
                            0.4444444444444444,
                            "#bd3786"
                          ],
                          [
                            0.5555555555555556,
                            "#d8576b"
                          ],
                          [
                            0.6666666666666666,
                            "#ed7953"
                          ],
                          [
                            0.7777777777777778,
                            "#fb9f3a"
                          ],
                          [
                            0.8888888888888888,
                            "#fdca26"
                          ],
                          [
                            1,
                            "#f0f921"
                          ]
                        ],
                        "type": "contour"
                      }
                    ],
                    "contourcarpet": [
                      {
                        "colorbar": {
                          "outlinewidth": 0,
                          "ticks": ""
                        },
                        "type": "contourcarpet"
                      }
                    ],
                    "heatmap": [
                      {
                        "colorbar": {
                          "outlinewidth": 0,
                          "ticks": ""
                        },
                        "colorscale": [
                          [
                            0,
                            "#0d0887"
                          ],
                          [
                            0.1111111111111111,
                            "#46039f"
                          ],
                          [
                            0.2222222222222222,
                            "#7201a8"
                          ],
                          [
                            0.3333333333333333,
                            "#9c179e"
                          ],
                          [
                            0.4444444444444444,
                            "#bd3786"
                          ],
                          [
                            0.5555555555555556,
                            "#d8576b"
                          ],
                          [
                            0.6666666666666666,
                            "#ed7953"
                          ],
                          [
                            0.7777777777777778,
                            "#fb9f3a"
                          ],
                          [
                            0.8888888888888888,
                            "#fdca26"
                          ],
                          [
                            1,
                            "#f0f921"
                          ]
                        ],
                        "type": "heatmap"
                      }
                    ],
                    "histogram": [
                      {
                        "marker": {
                          "pattern": {
                            "fillmode": "overlay",
                            "size": 10,
                            "solidity": 0.2
                          }
                        },
                        "type": "histogram"
                      }
                    ],
                    "histogram2d": [
                      {
                        "colorbar": {
                          "outlinewidth": 0,
                          "ticks": ""
                        },
                        "colorscale": [
                          [
                            0,
                            "#0d0887"
                          ],
                          [
                            0.1111111111111111,
                            "#46039f"
                          ],
                          [
                            0.2222222222222222,
                            "#7201a8"
                          ],
                          [
                            0.3333333333333333,
                            "#9c179e"
                          ],
                          [
                            0.4444444444444444,
                            "#bd3786"
                          ],
                          [
                            0.5555555555555556,
                            "#d8576b"
                          ],
                          [
                            0.6666666666666666,
                            "#ed7953"
                          ],
                          [
                            0.7777777777777778,
                            "#fb9f3a"
                          ],
                          [
                            0.8888888888888888,
                            "#fdca26"
                          ],
                          [
                            1,
                            "#f0f921"
                          ]
                        ],
                        "type": "histogram2d"
                      }
                    ],
                    "histogram2dcontour": [
                      {
                        "colorbar": {
                          "outlinewidth": 0,
                          "ticks": ""
                        },
                        "colorscale": [
                          [
                            0,
                            "#0d0887"
                          ],
                          [
                            0.1111111111111111,
                            "#46039f"
                          ],
                          [
                            0.2222222222222222,
                            "#7201a8"
                          ],
                          [
                            0.3333333333333333,
                            "#9c179e"
                          ],
                          [
                            0.4444444444444444,
                            "#bd3786"
                          ],
                          [
                            0.5555555555555556,
                            "#d8576b"
                          ],
                          [
                            0.6666666666666666,
                            "#ed7953"
                          ],
                          [
                            0.7777777777777778,
                            "#fb9f3a"
                          ],
                          [
                            0.8888888888888888,
                            "#fdca26"
                          ],
                          [
                            1,
                            "#f0f921"
                          ]
                        ],
                        "type": "histogram2dcontour"
                      }
                    ],
                    "mesh3d": [
                      {
                        "colorbar": {
                          "outlinewidth": 0,
                          "ticks": ""
                        },
                        "type": "mesh3d"
                      }
                    ],
                    "parcoords": [
                      {
                        "line": {
                          "colorbar": {
                            "outlinewidth": 0,
                            "ticks": ""
                          }
                        },
                        "type": "parcoords"
                      }
                    ],
                    "pie": [
                      {
                        "automargin": true,
                        "type": "pie"
                      }
                    ],
                    "scatter": [
                      {
                        "fillpattern": {
                          "fillmode": "overlay",
                          "size": 10,
                          "solidity": 0.2
                        },
                        "type": "scatter"
                      }
                    ],
                    "scatter3d": [
                      {
                        "line": {
                          "colorbar": {
                            "outlinewidth": 0,
                            "ticks": ""
                          }
                        },
                        "marker": {
                          "colorbar": {
                            "outlinewidth": 0,
                            "ticks": ""
                          }
                        },
                        "type": "scatter3d"
                      }
                    ],
                    "scattercarpet": [
                      {
                        "marker": {
                          "colorbar": {
                            "outlinewidth": 0,
                            "ticks": ""
                          }
                        },
                        "type": "scattercarpet"
                      }
                    ],
                    "scattergeo": [
                      {
                        "marker": {
                          "colorbar": {
                            "outlinewidth": 0,
                            "ticks": ""
                          }
                        },
                        "type": "scattergeo"
                      }
                    ],
                    "scattergl": [
                      {
                        "marker": {
                          "colorbar": {
                            "outlinewidth": 0,
                            "ticks": ""
                          }
                        },
                        "type": "scattergl"
                      }
                    ],
                    "scattermap": [
                      {
                        "marker": {
                          "colorbar": {
                            "outlinewidth": 0,
                            "ticks": ""
                          }
                        },
                        "type": "scattermap"
                      }
                    ],
                    "scattermapbox": [
                      {
                        "marker": {
                          "colorbar": {
                            "outlinewidth": 0,
                            "ticks": ""
                          }
                        },
                        "type": "scattermapbox"
                      }
                    ],
                    "scatterpolar": [
                      {
                        "marker": {
                          "colorbar": {
                            "outlinewidth": 0,
                            "ticks": ""
                          }
                        },
                        "type": "scatterpolar"
                      }
                    ],
                    "scatterpolargl": [
                      {
                        "marker": {
                          "colorbar": {
                            "outlinewidth": 0,
                            "ticks": ""
                          }
                        },
                        "type": "scatterpolargl"
                      }
                    ],
                    "scatterternary": [
                      {
                        "marker": {
                          "colorbar": {
                            "outlinewidth": 0,
                            "ticks": ""
                          }
                        },
                        "type": "scatterternary"
                      }
                    ],
                    "surface": [
                      {
                        "colorbar": {
                          "outlinewidth": 0,
                          "ticks": ""
                        },
                        "colorscale": [
                          [
                            0,
                            "#0d0887"
                          ],
                          [
                            0.1111111111111111,
                            "#46039f"
                          ],
                          [
                            0.2222222222222222,
                            "#7201a8"
                          ],
                          [
                            0.3333333333333333,
                            "#9c179e"
                          ],
                          [
                            0.4444444444444444,
                            "#bd3786"
                          ],
                          [
                            0.5555555555555556,
                            "#d8576b"
                          ],
                          [
                            0.6666666666666666,
                            "#ed7953"
                          ],
                          [
                            0.7777777777777778,
                            "#fb9f3a"
                          ],
                          [
                            0.8888888888888888,
                            "#fdca26"
                          ],
                          [
                            1,
                            "#f0f921"
                          ]
                        ],
                        "type": "surface"
                      }
                    ],
                    "table": [
                      {
                        "cells": {
                          "fill": {
                            "color": "#EBF0F8"
                          },
                          "line": {
                            "color": "white"
                          }
                        },
                        "header": {
                          "fill": {
                            "color": "#C8D4E3"
                          },
                          "line": {
                            "color": "white"
                          }
                        },
                        "type": "table"
                      }
                    ]
                  },
                  "layout": {
                    "annotationdefaults": {
                      "arrowcolor": "#2a3f5f",
                      "arrowhead": 0,
                      "arrowwidth": 1
                    },
                    "autotypenumbers": "strict",
                    "coloraxis": {
                      "colorbar": {
                        "outlinewidth": 0,
                        "ticks": ""
                      }
                    },
                    "colorscale": {
                      "diverging": [
                        [
                          0,
                          "#8e0152"
                        ],
                        [
                          0.1,
                          "#c51b7d"
                        ],
                        [
                          0.2,
                          "#de77ae"
                        ],
                        [
                          0.3,
                          "#f1b6da"
                        ],
                        [
                          0.4,
                          "#fde0ef"
                        ],
                        [
                          0.5,
                          "#f7f7f7"
                        ],
                        [
                          0.6,
                          "#e6f5d0"
                        ],
                        [
                          0.7,
                          "#b8e186"
                        ],
                        [
                          0.8,
                          "#7fbc41"
                        ],
                        [
                          0.9,
                          "#4d9221"
                        ],
                        [
                          1,
                          "#276419"
                        ]
                      ],
                      "sequential": [
                        [
                          0,
                          "#0d0887"
                        ],
                        [
                          0.1111111111111111,
                          "#46039f"
                        ],
                        [
                          0.2222222222222222,
                          "#7201a8"
                        ],
                        [
                          0.3333333333333333,
                          "#9c179e"
                        ],
                        [
                          0.4444444444444444,
                          "#bd3786"
                        ],
                        [
                          0.5555555555555556,
                          "#d8576b"
                        ],
                        [
                          0.6666666666666666,
                          "#ed7953"
                        ],
                        [
                          0.7777777777777778,
                          "#fb9f3a"
                        ],
                        [
                          0.8888888888888888,
                          "#fdca26"
                        ],
                        [
                          1,
                          "#f0f921"
                        ]
                      ],
                      "sequentialminus": [
                        [
                          0,
                          "#0d0887"
                        ],
                        [
                          0.1111111111111111,
                          "#46039f"
                        ],
                        [
                          0.2222222222222222,
                          "#7201a8"
                        ],
                        [
                          0.3333333333333333,
                          "#9c179e"
                        ],
                        [
                          0.4444444444444444,
                          "#bd3786"
                        ],
                        [
                          0.5555555555555556,
                          "#d8576b"
                        ],
                        [
                          0.6666666666666666,
                          "#ed7953"
                        ],
                        [
                          0.7777777777777778,
                          "#fb9f3a"
                        ],
                        [
                          0.8888888888888888,
                          "#fdca26"
                        ],
                        [
                          1,
                          "#f0f921"
                        ]
                      ]
                    },
                    "colorway": [
                      "#636efa",
                      "#EF553B",
                      "#00cc96",
                      "#ab63fa",
                      "#FFA15A",
                      "#19d3f3",
                      "#FF6692",
                      "#B6E880",
                      "#FF97FF",
                      "#FECB52"
                    ],
                    "font": {
                      "color": "#2a3f5f"
                    },
                    "geo": {
                      "bgcolor": "white",
                      "lakecolor": "white",
                      "landcolor": "white",
                      "showlakes": true,
                      "showland": true,
                      "subunitcolor": "#C8D4E3"
                    },
                    "hoverlabel": {
                      "align": "left"
                    },
                    "hovermode": "closest",
                    "mapbox": {
                      "style": "light"
                    },
                    "paper_bgcolor": "white",
                    "plot_bgcolor": "white",
                    "polar": {
                      "angularaxis": {
                        "gridcolor": "#EBF0F8",
                        "linecolor": "#EBF0F8",
                        "ticks": ""
                      },
                      "bgcolor": "white",
                      "radialaxis": {
                        "gridcolor": "#EBF0F8",
                        "linecolor": "#EBF0F8",
                        "ticks": ""
                      }
                    },
                    "scene": {
                      "xaxis": {
                        "backgroundcolor": "white",
                        "gridcolor": "#DFE8F3",
                        "gridwidth": 2,
                        "linecolor": "#EBF0F8",
                        "showbackground": true,
                        "ticks": "",
                        "zerolinecolor": "#EBF0F8"
                      },
                      "yaxis": {
                        "backgroundcolor": "white",
                        "gridcolor": "#DFE8F3",
                        "gridwidth": 2,
                        "linecolor": "#EBF0F8",
                        "showbackground": true,
                        "ticks": "",
                        "zerolinecolor": "#EBF0F8"
                      },
                      "zaxis": {
                        "backgroundcolor": "white",
                        "gridcolor": "#DFE8F3",
                        "gridwidth": 2,
                        "linecolor": "#EBF0F8",
                        "showbackground": true,
                        "ticks": "",
                        "zerolinecolor": "#EBF0F8"
                      }
                    },
                    "shapedefaults": {
                      "line": {
                        "color": "#2a3f5f"
                      }
                    },
                    "ternary": {
                      "aaxis": {
                        "gridcolor": "#DFE8F3",
                        "linecolor": "#A2B1C6",
                        "ticks": ""
                      },
                      "baxis": {
                        "gridcolor": "#DFE8F3",
                        "linecolor": "#A2B1C6",
                        "ticks": ""
                      },
                      "bgcolor": "white",
                      "caxis": {
                        "gridcolor": "#DFE8F3",
                        "linecolor": "#A2B1C6",
                        "ticks": ""
                      }
                    },
                    "title": {
                      "x": 0.05
                    },
                    "xaxis": {
                      "automargin": true,
                      "gridcolor": "#EBF0F8",
                      "linecolor": "#EBF0F8",
                      "ticks": "",
                      "title": {
                        "standoff": 15
                      },
                      "zerolinecolor": "#EBF0F8",
                      "zerolinewidth": 2
                    },
                    "yaxis": {
                      "automargin": true,
                      "gridcolor": "#EBF0F8",
                      "linecolor": "#EBF0F8",
                      "ticks": "",
                      "title": {
                        "standoff": 15
                      },
                      "zerolinecolor": "#EBF0F8",
                      "zerolinewidth": 2
                    }
                  }
                },
                "title": {
                  "text": "Backtest Visualizations"
                },
                "xaxis": {
                  "anchor": "y",
                  "domain": [
                    0,
                    1
                  ],
                  "matches": "x2",
                  "showticklabels": false
                },
                "xaxis2": {
                  "anchor": "y2",
                  "domain": [
                    0,
                    1
                  ],
                  "title": {
                    "text": "Time"
                  }
                },
                "yaxis": {
                  "anchor": "x",
                  "domain": [
                    0.55,
                    1
                  ],
                  "title": {
                    "text": "Capital"
                  }
                },
                "yaxis2": {
                  "anchor": "x2",
                  "domain": [
                    0,
                    0.45
                  ],
                  "title": {
                    "text": "Price"
                  }
                }
              }
            }
          },
          "metadata": {},
          "output_type": "display_data"
        },
        {
          "data": {
            "text/html": [
              "<div>\n",
              "<style scoped>\n",
              "    .dataframe tbody tr th:only-of-type {\n",
              "        vertical-align: middle;\n",
              "    }\n",
              "\n",
              "    .dataframe tbody tr th {\n",
              "        vertical-align: top;\n",
              "    }\n",
              "\n",
              "    .dataframe thead th {\n",
              "        text-align: right;\n",
              "    }\n",
              "</style>\n",
              "<table border=\"1\" class=\"dataframe\">\n",
              "  <thead>\n",
              "    <tr style=\"text-align: right;\">\n",
              "      <th></th>\n",
              "      <th>Entry Candle</th>\n",
              "      <th>Exit Candle</th>\n",
              "      <th>PnL</th>\n",
              "      <th>Number of units</th>\n",
              "      <th>Trade type</th>\n",
              "    </tr>\n",
              "  </thead>\n",
              "  <tbody>\n",
              "    <tr>\n",
              "      <th>0</th>\n",
              "      <td>2020-01-27</td>\n",
              "      <td>2020-07-20</td>\n",
              "      <td>-56973.204956</td>\n",
              "      <td>158.0</td>\n",
              "      <td>Short</td>\n",
              "    </tr>\n",
              "  </tbody>\n",
              "</table>\n",
              "</div>"
            ],
            "text/plain": [
              "  Entry Candle Exit Candle           PnL  Number of units Trade type\n",
              "0   2020-01-27  2020-07-20 -56973.204956            158.0      Short"
            ]
          },
          "execution_count": 16,
          "metadata": {},
          "output_type": "execute_result"
        }
      ],
      "source": [
        "def calculate_atr(df, period=10):\n",
        "    tr = np.maximum(np.maximum(df['High'] - df['Low'], abs(df['High'] - df['Close'].shift(1))), abs(df['Low'] - df['Close'].shift(1)))\n",
        "    atr = pd.Series(tr).rolling(window=period).mean()\n",
        "    return atr\n",
        "\n",
        "def calculate_typical_price(df):\n",
        "    return (df['High'] + df['Low'] + df['Close']) / 3\n",
        "\n",
        "def calculate_mfi(df, window=14):\n",
        "    tp = calculate_typical_price(df)\n",
        "    volume = df['Volume']\n",
        "\n",
        "    money_flow = tp * volume\n",
        "\n",
        "    positive_mf = np.where(tp > tp.shift(1), money_flow, 0)\n",
        "    negative_mf = np.where(tp < tp.shift(1), money_flow, 0)\n",
        "\n",
        "    positive_mf_sum = pd.Series(positive_mf).rolling(window=window).sum()\n",
        "    negative_mf_sum = pd.Series(negative_mf).rolling(window=window).sum()\n",
        "    mfi = 100 - (100 / (1 + positive_mf_sum / negative_mf_sum.replace(0, np.nan)))\n",
        "    return mfi\n",
        "\n",
        "def calculate_supertrend(df, period=10, multiplier=3):\n",
        "    df['tr'] = np.maximum(np.maximum(df['High'] - df['Low'], abs(df['High'] - df['Close'].shift(1))), abs(df['Low'] - df['Close'].shift(1)))\n",
        "    df['atr'] = df['tr'].rolling(period).mean()\n",
        "\n",
        "    df['basic_upper'] = (df['High'] + df['Low']) / 2 + multiplier * df['atr']\n",
        "    df['basic_lower'] = (df['High'] + df['Low']) / 2 - multiplier * df['atr']\n",
        "\n",
        "    df['final_upper'] = df['basic_upper']\n",
        "    df['final_lower'] = df['basic_lower']\n",
        "\n",
        "    for i in range(1, len(df)):\n",
        "      if df['Close'].iloc[i] > df['final_upper'].iloc[i-1]:\n",
        "        df.loc[df.index[i], 'final_upper'] = df['basic_upper'].iloc[i]\n",
        "      else:\n",
        "        df.loc[df.index[i], 'final_upper'] = min(df['basic_upper'].iloc[i], df['final_upper'].iloc[i-1])\n",
        "\n",
        "      if df['Close'].iloc[i] < df['final_lower'].iloc[i-1]:\n",
        "        df.loc[df.index[i], 'final_lower'] = df['basic_lower'].iloc[i]\n",
        "      else:\n",
        "        df.loc[df.index[i], 'final_lower'] = max(df['basic_lower'].iloc[i], df['final_lower'].iloc[i-1])\n",
        "\n",
        "    df['supertrend'] = np.nan\n",
        "    for i in range(period, len(df)):\n",
        "        if df['Close'].iloc[i] > df['final_upper'].iloc[i-1]:\n",
        "          df.loc[df.index[i], 'supertrend'] = df['final_lower'].iloc[i]\n",
        "        elif df['Close'].iloc[i] < df['final_lower'].iloc[i-1]:\n",
        "          df.loc[df.index[i], 'supertrend'] = df['final_upper'].iloc[i]\n",
        "        else:\n",
        "          df.loc[df.index[i], 'supertrend'] = df['supertrend'].iloc[i-1]\n",
        "\n",
        "    return df['supertrend']\n",
        "\n",
        "\n",
        "mfi_window=14\n",
        "supertrend_period=10\n",
        "supertrend_multiplier=3\n",
        "mfi_oversold=30\n",
        "mfi_overbought=70\n",
        "mfi_delta_threshold=5\n",
        "atr_threshold_window = 10\n",
        "\n",
        "\n",
        "stock_data['mfi'] = calculate_mfi(stock_data.copy(), window=mfi_window)\n",
        "stock_data['supertrend'] = calculate_supertrend(stock_data.copy(), period=supertrend_period, multiplier=supertrend_multiplier)\n",
        "stock_data['atr'] = calculate_atr(stock_data)\n",
        "\n",
        "stock_data['atr_threshold'] = stock_data['atr'].rolling(window=atr_threshold_window).quantile(0.65)\n",
        "\n",
        "\n",
        "stock_data['Signals'] = 0\n",
        "\n",
        "for i in range(1, len(stock_data)):\n",
        "\n",
        "    if i < atr_threshold_window or pd.isna(stock_data['supertrend'].iloc[i-1]) or pd.isna(stock_data['mfi'].iloc[i-1]):\n",
        "        continue\n",
        "\n",
        "\n",
        "    long_entry_condition_1 = (stock_data['supertrend'].iloc[i] < stock_data['Close'].iloc[i]) and (stock_data['supertrend'].iloc[i-1] >= stock_data['Close'].iloc[i-1])\n",
        "    long_entry_condition_2 = (stock_data['mfi'].iloc[i] > stock_data['mfi'].iloc[i-1] + mfi_delta_threshold) and (stock_data['mfi'].iloc[i-1] <= mfi_oversold)\n",
        "    atr_condition_long = stock_data['atr'].iloc[i] >= stock_data['atr_threshold'].iloc[i]\n",
        "\n",
        "    if long_entry_condition_1 and long_entry_condition_2 and atr_condition_long:\n",
        "        stock_data.loc[stock_data.index[i], 'Signals'] = 1\n",
        "\n",
        "\n",
        "    short_entry_condition_1 = (stock_data['supertrend'].iloc[i] > stock_data['Close'].iloc[i]) and (stock_data['supertrend'].iloc[i-1] <= stock_data['Close'].iloc[i-1])\n",
        "    short_entry_condition_2 = (stock_data['mfi'].iloc[i] < stock_data['mfi'].iloc[i-1] - mfi_delta_threshold) and (stock_data['mfi'].iloc[i-1] >= mfi_overbought)\n",
        "    atr_condition_short = stock_data['atr'].iloc[i] >= stock_data['atr_threshold'].iloc[i]\n",
        "    if short_entry_condition_1 and short_entry_condition_2 and atr_condition_short:\n",
        "        stock_data.loc[stock_data.index[i], 'Signals'] = -1\n",
        "\n",
        "\n",
        "dataframe2 = stock_data[['timestamp', 'Open','High','Low','Close','Volume','Signals', 'supertrend', 'mfi']]\n",
        "\n",
        "perform_backtest(dataframe2)"
      ]
    },
    {
      "cell_type": "markdown",
      "metadata": {
        "id": "eY7co1rx6ol0"
      },
      "source": [
        "\n",
        "\n",
        "---\n",
        "\n",
        "\n",
        "# **5. Strategy Enhancements**"
      ]
    },
    {
      "cell_type": "markdown",
      "metadata": {
        "id": "m9fSEZVI7uxq"
      },
      "source": [
        "The following market regimes pose a risk to our strategy:\n",
        "\n",
        "\n",
        "\n",
        "1.   *Sideways and Range Bound Market:* Supertrend whipsaws while MFI fluctuates aimlessly\n",
        "2.   *Low-Volume*: MFI is essentially volume adjusted RSI\n",
        "3.   *Choppy/Noisy Market:* frequent crossovers of supertrend triggering fake entries and exits.\n",
        "\n",
        "All of this can be improved upon by implementing a 200-day EMA trend filter: in *long situation*, proceed ONLY if price > 200 day EMA and vice-versa for *short situations.*\n",
        "\n",
        "\n",
        "---\n",
        "\n"
      ]
    }
  ],
  "metadata": {
    "colab": {
      "provenance": []
    },
    "kernelspec": {
      "display_name": "Python 3",
      "name": "python3"
    },
    "language_info": {
      "codemirror_mode": {
        "name": "ipython",
        "version": 3
      },
      "file_extension": ".py",
      "mimetype": "text/x-python",
      "name": "python",
      "nbconvert_exporter": "python",
      "pygments_lexer": "ipython3",
      "version": "3.12.3"
    }
  },
  "nbformat": 4,
  "nbformat_minor": 0
}
